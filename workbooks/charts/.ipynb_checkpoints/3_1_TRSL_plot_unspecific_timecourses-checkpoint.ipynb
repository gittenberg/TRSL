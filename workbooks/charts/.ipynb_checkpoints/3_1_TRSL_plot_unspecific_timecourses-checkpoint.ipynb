{
 "cells": [
  {
   "cell_type": "markdown",
   "metadata": {},
   "source": [
    "## Plot unspecific TRSL timecourses"
   ]
  },
  {
   "cell_type": "code",
   "execution_count": 1,
   "metadata": {
    "collapsed": false
   },
   "outputs": [
    {
     "name": "stderr",
     "output_type": "stream",
     "text": [
      "/usr/lib/python2.7/dist-packages/matplotlib/__init__.py:1407: UserWarning: \n",
      "This call to matplotlib.use() has no effect because the backend has already\n",
      "been chosen; matplotlib.use() must be called *before* pylab, matplotlib.pyplot,\n",
      "or matplotlib.backends is imported for the first time.\n",
      "\n",
      "  warnings.warn(_use_error_msg)\n"
     ]
    }
   ],
   "source": [
    "import cPickle as pkl\n",
    "import numpy as np\n",
    "import matplotlib\n",
    "import matplotlib.pyplot as plt\n",
    "matplotlib.use(\"pgf\")\n",
    "pgf_with_rc_fonts = {\n",
    "    \"font.family\": \"serif\",\n",
    "    \"font.serif\": [u'Adobe Caslon Pro'],                   # use latex default serif font\n",
    "    \"font.sans-serif\": [\"DejaVu Sans\"], # use a specific sans-serif font\n",
    "}\n",
    "matplotlib.rcParams.update(pgf_with_rc_fonts)\n",
    "%matplotlib inline\n",
    "matplotlib.style.use('ggplot')"
   ]
  },
  {
   "cell_type": "code",
   "execution_count": 2,
   "metadata": {
    "collapsed": true
   },
   "outputs": [],
   "source": [
    "import sys\n",
    "sys.path.append(r'/home/martin/git/TRSL/translation/')"
   ]
  },
  {
   "cell_type": "code",
   "execution_count": 3,
   "metadata": {
    "collapsed": false
   },
   "outputs": [],
   "source": [
    "import MRNA"
   ]
  },
  {
   "cell_type": "code",
   "execution_count": 4,
   "metadata": {
    "collapsed": true
   },
   "outputs": [],
   "source": [
    "run = r'/home/martin/git/TRSL/results/TRSL_unspecific_low_ribosomes_results_60_transcripts_20170824_1254_20_ribosomes_0300s.p'"
   ]
  },
  {
   "cell_type": "code",
   "execution_count": 5,
   "metadata": {
    "collapsed": false
   },
   "outputs": [],
   "source": [
    "results = pkl.load(open(run))"
   ]
  },
  {
   "cell_type": "code",
   "execution_count": 6,
   "metadata": {
    "collapsed": false
   },
   "outputs": [
    {
     "data": {
      "text/plain": [
       "['n_tRNA',\n",
       " 'description',\n",
       " 'n_ribosomes',\n",
       " 'timerange',\n",
       " 'proteome',\n",
       " 'transcriptome',\n",
       " 'peptide_bonds',\n",
       " 'duration',\n",
       " 'time_stamp',\n",
       " 'timecourses']"
      ]
     },
     "execution_count": 6,
     "metadata": {},
     "output_type": "execute_result"
    }
   ],
   "source": [
    "results.keys()"
   ]
  },
  {
   "cell_type": "code",
   "execution_count": 7,
   "metadata": {
    "collapsed": false
   },
   "outputs": [],
   "source": [
    "peptide_bonds = results['timecourses']['peptide_bonds']\n",
    "ribos_bound = results['timecourses']['ribos._bound']\n",
    "proteins = results['timecourses']['proteins']\n",
    "tRNA_bound = results['timecourses']['tRNA_bound']\n",
    "tRNA_free = results['timecourses']['tRNA_free']"
   ]
  },
  {
   "cell_type": "code",
   "execution_count": 8,
   "metadata": {
    "collapsed": true
   },
   "outputs": [],
   "source": [
    "times = np.linspace(0, 300, len(peptide_bonds))"
   ]
  },
  {
   "cell_type": "code",
   "execution_count": 9,
   "metadata": {
    "collapsed": false
   },
   "outputs": [
    {
     "data": {
      "text/plain": [
       "[<matplotlib.lines.Line2D at 0x7fb99b915990>]"
      ]
     },
     "execution_count": 9,
     "metadata": {},
     "output_type": "execute_result"
    },
    {
     "data": {
      "image/png": "[encoded data removed]",
      "text/plain": [
       "<matplotlib.figure.Figure at 0x7fba0c7d0650>"
      ]
     },
     "metadata": {},
     "output_type": "display_data"
    }
   ],
   "source": [
    "plt.plot(times, ribos_bound)"
   ]
  },
  {
   "cell_type": "code",
   "execution_count": 10,
   "metadata": {
    "collapsed": false
   },
   "outputs": [
    {
     "data": {
      "text/plain": [
       "[<matplotlib.lines.Line2D at 0x7fb999ccf450>]"
      ]
     },
     "execution_count": 10,
     "metadata": {},
     "output_type": "execute_result"
    },
    {
     "data": {
      "image/png": "[encoded data removed]",
      "text/plain": [
       "<matplotlib.figure.Figure at 0x7fb999ccf490>"
      ]
     },
     "metadata": {},
     "output_type": "display_data"
    }
   ],
   "source": [
    "ax1 = plt.subplot(111)\n",
    "ax1.plot(times, peptide_bonds)\n",
    "#ax1.set_xlim([0, 10])\n",
    "#ax1.set_ylim([0, 100])"
   ]
  },
  {
   "cell_type": "code",
   "execution_count": 11,
   "metadata": {
    "collapsed": true
   },
   "outputs": [],
   "source": [
    "plt.rcParams['figure.figsize'] = (12, 9)\n",
    "plt.rcParams['axes.facecolor']='white'\n",
    "plt.rcParams['axes.edgecolor']='black'\n",
    "plt.rcParams['grid.color']='grey'\n",
    "plt.rcParams['grid.alpha']='0.5'\n",
    "plt.rcParams['grid.linestyle']='-.'"
   ]
  },
  {
   "cell_type": "code",
   "execution_count": 12,
   "metadata": {
    "collapsed": true
   },
   "outputs": [],
   "source": [
    "x = times\n",
    "y = ribos_bound\n",
    "z = peptide_bonds"
   ]
  },
  {
   "cell_type": "markdown",
   "metadata": {},
   "source": [
    "Times where ribosomes bind or detach:"
   ]
  },
  {
   "cell_type": "code",
   "execution_count": 13,
   "metadata": {
    "collapsed": false
   },
   "outputs": [
    {
     "data": {
      "text/plain": [
       "[8.2054703135423619,\n",
       " 52.234823215476986,\n",
       " 79.452968645763846,\n",
       " 125.88392261507671,\n",
       " 132.68845897264842,\n",
       " 138.49232821881253,\n",
       " 177.51834556370912,\n",
       " 183.72248165443628,\n",
       " 187.92528352234822,\n",
       " 193.92928619079385,\n",
       " 219.74649766511007,\n",
       " 230.15343562374915,\n",
       " 237.75850567044697,\n",
       " 267.97865243495664,\n",
       " 292.59506337558372]"
      ]
     },
     "execution_count": 13,
     "metadata": {},
     "output_type": "execute_result"
    }
   ],
   "source": [
    "jump_times = [times[i] for i, ribos in enumerate(ribos_bound[:-1]) if ribos_bound[i]!=ribos_bound[i+1]]\n",
    "jump_times"
   ]
  },
  {
   "cell_type": "markdown",
   "metadata": {},
   "source": [
    "Modified from https://matplotlib.org/examples/pylab_examples/subplots_demo.html:"
   ]
  },
  {
   "cell_type": "code",
   "execution_count": 15,
   "metadata": {
    "collapsed": false
   },
   "outputs": [
    {
     "data": {
      "image/png": "[encoded data removed]",
      "text/plain": [
       "<matplotlib.figure.Figure at 0x7fb99e1f4790>"
      ]
     },
     "metadata": {},
     "output_type": "display_data"
    }
   ],
   "source": [
    "f, (ax1, ax2) = plt.subplots(2, sharex=True, sharey=False)\n",
    "\n",
    "myfontsize = 20\n",
    "ax1.tick_params(axis='both', which='major', labelsize=myfontsize)\n",
    "ax2.tick_params(axis='both', which='major', labelsize=myfontsize)\n",
    "\n",
    "ax2.set_xlabel(\"time [s]\", fontsize=myfontsize)\n",
    "ax1.set_ylabel(\"Bound ribosomes\", fontsize=myfontsize)\n",
    "ax2.set_ylabel(\"Peptide bonds\", fontsize=myfontsize)\n",
    "\n",
    "ax1.get_yaxis().set_label_coords(-0.08, 0.5)\n",
    "ax2.get_yaxis().set_label_coords(-0.08, 0.5)\n",
    "\n",
    "ax1.plot(x, y)\n",
    "#ax1.set_title('Sharing both axes')\n",
    "ax2.plot(x, z)\n",
    "f.subplots_adjust(hspace=0)\n",
    "plt.setp([a.get_xticklabels() for a in f.axes[:-1]], visible=False);\n",
    "\n",
    "ax1.grid(b=False)\n",
    "ax2.grid(b=False)\n",
    "\n",
    "ax1.tick_params(axis='x', colors='black')\n",
    "ax1.tick_params(axis='y', colors='black')\n",
    "ax1.xaxis.label.set_color('black')\n",
    "ax1.yaxis.label.set_color('black')\n",
    "\n",
    "ax2.tick_params(axis='x', colors='black')\n",
    "ax2.tick_params(axis='y', colors='black')\n",
    "ax2.xaxis.label.set_color('black')\n",
    "ax2.yaxis.label.set_color('black')\n",
    "\n",
    "# vertical lines to indicate changes:\n",
    "for time in jump_times:\n",
    "    ax1.axvline(x=time, color='k', alpha=0.15)\n",
    "    ax2.axvline(x=time, color='k', alpha=0.15)\n",
    "    #ax2.plot((time, 0), (time, 3000), 'k-')\n",
    "    \n",
    "plt.savefig('TRSL_unspecific_bound_ribos_peptide_bonds.pgf', bbox_inches='tight')"
   ]
  },
  {
   "cell_type": "code",
   "execution_count": null,
   "metadata": {
    "collapsed": true
   },
   "outputs": [],
   "source": []
  }
 ],
 "metadata": {
  "kernelspec": {
   "display_name": "Python 2",
   "language": "python",
   "name": "python2"
  },
  "language_info": {
   "codemirror_mode": {
    "name": "ipython",
    "version": 2
   },
   "file_extension": ".py",
   "mimetype": "text/x-python",
   "name": "python",
   "nbconvert_exporter": "python",
   "pygments_lexer": "ipython2",
   "version": "2.7.12"
  }
 },
 "nbformat": 4,
 "nbformat_minor": 2
}
