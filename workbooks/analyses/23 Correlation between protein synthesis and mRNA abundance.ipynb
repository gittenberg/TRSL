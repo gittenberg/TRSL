{
 "cells": [
  {
   "cell_type": "markdown",
   "metadata": {},
   "source": [
    "# Correlation between (log) protein synthesis and (log) mRNA abundance"
   ]
  },
  {
   "cell_type": "markdown",
   "metadata": {},
   "source": [
    "According to https://www.ncbi.nlm.nih.gov/pubmed/28365149:\n",
    "\n",
    ">The overall correlation between mRNA and protein abundances across all conditions was low (0.46), but for differentially expressed proteins (n = 202), the median mRNA-protein correlation was 0.88.\n",
    "\n",
    "Their Fig. 2A shows $R^2 = 0.45$."
   ]
  },
  {
   "cell_type": "markdown",
   "metadata": {},
   "source": [
    "We can only do synthesis rates."
   ]
  },
  {
   "cell_type": "markdown",
   "metadata": {},
   "source": [
    "#### Protein synthesis rates:"
   ]
  },
  {
   "cell_type": "code",
   "execution_count": 63,
   "metadata": {},
   "outputs": [],
   "source": [
    "import pandas as pd\n",
    "import pickle as pkl\n",
    "import numpy as np"
   ]
  },
  {
   "cell_type": "code",
   "execution_count": 4,
   "metadata": {},
   "outputs": [],
   "source": [
    "synthrates = pkl.load(open(\"../../parameters/prot_speeds.p\"))"
   ]
  },
  {
   "cell_type": "code",
   "execution_count": 6,
   "metadata": {},
   "outputs": [
    {
     "data": {
      "text/plain": [
       "count    4475.000000\n",
       "mean        1.349305\n",
       "std         7.847669\n",
       "min         0.001149\n",
       "25%         0.049425\n",
       "50%         0.122989\n",
       "75%         0.379763\n",
       "max       193.922989\n",
       "dtype: float64"
      ]
     },
     "execution_count": 6,
     "metadata": {},
     "output_type": "execute_result"
    }
   ],
   "source": [
    "pd.Series(synthrates).describe()"
   ]
  },
  {
   "cell_type": "code",
   "execution_count": 12,
   "metadata": {},
   "outputs": [
    {
     "data": {
      "text/plain": [
       "21737298.352131646"
      ]
     },
     "execution_count": 12,
     "metadata": {},
     "output_type": "execute_result"
    }
   ],
   "source": [
    "pd.Series(synthrates).sum() * 3600"
   ]
  },
  {
   "cell_type": "markdown",
   "metadata": {},
   "source": [
    "Interesting. So here we get 21.7 M proteins per hour"
   ]
  },
  {
   "cell_type": "code",
   "execution_count": null,
   "metadata": {},
   "outputs": [],
   "source": []
  },
  {
   "cell_type": "code",
   "execution_count": null,
   "metadata": {},
   "outputs": [],
   "source": []
  },
  {
   "cell_type": "code",
   "execution_count": null,
   "metadata": {},
   "outputs": [],
   "source": []
  },
  {
   "cell_type": "code",
   "execution_count": null,
   "metadata": {},
   "outputs": [],
   "source": []
  },
  {
   "cell_type": "code",
   "execution_count": null,
   "metadata": {},
   "outputs": [],
   "source": []
  },
  {
   "cell_type": "code",
   "execution_count": null,
   "metadata": {},
   "outputs": [],
   "source": []
  },
  {
   "cell_type": "code",
   "execution_count": null,
   "metadata": {},
   "outputs": [],
   "source": []
  },
  {
   "cell_type": "code",
   "execution_count": null,
   "metadata": {},
   "outputs": [],
   "source": []
  },
  {
   "cell_type": "code",
   "execution_count": null,
   "metadata": {},
   "outputs": [],
   "source": []
  },
  {
   "cell_type": "markdown",
   "metadata": {},
   "source": [
    "### Exkurs: compare with 11 M estimate"
   ]
  },
  {
   "cell_type": "markdown",
   "metadata": {},
   "source": [
    "#### On average transcriptome:"
   ]
  },
  {
   "cell_type": "code",
   "execution_count": 21,
   "metadata": {},
   "outputs": [],
   "source": [
    "init_rates_plotkin = pkl.load(open('../../parameters/init_rates_plotkin.p'))"
   ]
  },
  {
   "cell_type": "code",
   "execution_count": 22,
   "metadata": {},
   "outputs": [
    {
     "data": {
      "text/plain": [
       "count    4.839000e+03\n",
       "mean     1.567727e-06\n",
       "std      1.128263e-06\n",
       "min      9.375766e-10\n",
       "25%      8.320521e-07\n",
       "50%      1.291872e-06\n",
       "75%      1.962904e-06\n",
       "max      1.440641e-05\n",
       "dtype: float64"
      ]
     },
     "execution_count": 22,
     "metadata": {},
     "output_type": "execute_result"
    }
   ],
   "source": [
    "pd.Series(init_rates_plotkin).describe()"
   ]
  },
  {
   "cell_type": "code",
   "execution_count": 23,
   "metadata": {},
   "outputs": [],
   "source": [
    "transcriptome = pkl.load(open('../../parameters/transcriptome_plotkin.p'))"
   ]
  },
  {
   "cell_type": "code",
   "execution_count": 26,
   "metadata": {},
   "outputs": [
    {
     "data": {
      "text/plain": [
       "60000"
      ]
     },
     "execution_count": 26,
     "metadata": {},
     "output_type": "execute_result"
    }
   ],
   "source": [
    "sum(transcriptome.values())"
   ]
  },
  {
   "cell_type": "markdown",
   "metadata": {},
   "source": [
    "Sum of init rates weighted by transcript abundance:"
   ]
  },
  {
   "cell_type": "code",
   "execution_count": 33,
   "metadata": {},
   "outputs": [],
   "source": [
    "initations_per_second = {gene: init_rates_plotkin[gene] * transcriptome[gene] for gene in transcriptome}"
   ]
  },
  {
   "cell_type": "code",
   "execution_count": 37,
   "metadata": {},
   "outputs": [
    {
     "data": {
      "text/plain": [
       "0.21047256610692186"
      ]
     },
     "execution_count": 37,
     "metadata": {},
     "output_type": "execute_result"
    }
   ],
   "source": [
    "sum(initations_per_second.values())"
   ]
  },
  {
   "cell_type": "code",
   "execution_count": 38,
   "metadata": {},
   "outputs": [
    {
     "data": {
      "text/plain": [
       "6735.122115421499"
      ]
     },
     "execution_count": 38,
     "metadata": {},
     "output_type": "execute_result"
    }
   ],
   "source": [
    "sum(initations_per_second.values()) * 0.16 * 200000"
   ]
  },
  {
   "cell_type": "code",
   "execution_count": 39,
   "metadata": {},
   "outputs": [
    {
     "data": {
      "text/plain": [
       "24246439.615517396"
      ]
     },
     "execution_count": 39,
     "metadata": {},
     "output_type": "execute_result"
    }
   ],
   "source": [
    "sum(initations_per_second.values()) * 0.16 * 200000 * 3600"
   ]
  },
  {
   "cell_type": "markdown",
   "metadata": {},
   "source": [
    "#### On time-resolved transcriptome:"
   ]
  },
  {
   "cell_type": "code",
   "execution_count": 40,
   "metadata": {},
   "outputs": [],
   "source": [
    "transcriptome_t = pkl.load(open('../../parameters/transcriptome_time_dependent_v2.p'))"
   ]
  },
  {
   "cell_type": "code",
   "execution_count": 43,
   "metadata": {},
   "outputs": [
    {
     "data": {
      "text/plain": [
       "0     42123\n",
       "5     42167\n",
       "10    72667\n",
       "15    72764\n",
       "20    72928\n",
       "25    27655\n",
       "30    27355\n",
       "35    27315\n",
       "40    27222\n",
       "45    27559\n",
       "50    16741\n",
       "55    32065\n",
       "60    22535\n",
       "dtype: int64"
      ]
     },
     "execution_count": 43,
     "metadata": {},
     "output_type": "execute_result"
    }
   ],
   "source": [
    "pd.DataFrame(transcriptome_t).sum()"
   ]
  },
  {
   "cell_type": "code",
   "execution_count": 58,
   "metadata": {},
   "outputs": [
    {
     "data": {
      "text/plain": [
       "39315.07692307692"
      ]
     },
     "execution_count": 58,
     "metadata": {},
     "output_type": "execute_result"
    }
   ],
   "source": [
    "pd.DataFrame(transcriptome_t).sum().mean()"
   ]
  },
  {
   "cell_type": "code",
   "execution_count": 48,
   "metadata": {},
   "outputs": [],
   "source": [
    "initations_per_second_per_phase = {t: {gene: init_rates_plotkin[gene] * transcriptome_t[t][gene] for gene in init_rates_plotkin if gene in transcriptome_t[t]} for t in transcriptome_t}"
   ]
  },
  {
   "cell_type": "code",
   "execution_count": 50,
   "metadata": {},
   "outputs": [
    {
     "name": "stdout",
     "output_type": "stream",
     "text": [
      "0 4716\n",
      "35 4716\n",
      "5 4716\n",
      "40 4716\n",
      "10 4716\n",
      "45 4716\n",
      "15 4716\n",
      "50 4716\n",
      "20 4716\n",
      "55 4716\n",
      "25 4716\n",
      "60 4716\n",
      "30 4716\n"
     ]
    }
   ],
   "source": [
    "for t in transcriptome_t:\n",
    "    print t, len(initations_per_second_per_phase[t])"
   ]
  },
  {
   "cell_type": "markdown",
   "metadata": {},
   "source": [
    "Ok, good enough. (120 genes were lost.)"
   ]
  },
  {
   "cell_type": "code",
   "execution_count": 54,
   "metadata": {},
   "outputs": [
    {
     "name": "stdout",
     "output_type": "stream",
     "text": [
      "0 2996.65882243\n",
      "5 2959.11618101\n",
      "10 5117.34159415\n",
      "15 5110.98080077\n",
      "20 5166.46340274\n",
      "25 1935.34116088\n",
      "30 1948.10801725\n",
      "35 1946.47814169\n",
      "40 1927.31369308\n",
      "45 1986.97177212\n",
      "50 1188.58638812\n",
      "55 2276.13370683\n",
      "60 1585.15075859\n"
     ]
    }
   ],
   "source": [
    "total = 0\n",
    "\n",
    "for t in sorted(transcriptome_t):\n",
    "    print t, sum(initations_per_second_per_phase[t].values()) * 0.16 * 200000\n",
    "    \n",
    "    total += sum(initations_per_second_per_phase[t].values()) * 0.16 * 200000 * 5 * 60  # 5 minutes"
   ]
  },
  {
   "cell_type": "code",
   "execution_count": 55,
   "metadata": {},
   "outputs": [
    {
     "data": {
      "text/plain": [
       "10843393.331895405"
      ]
     },
     "execution_count": 55,
     "metadata": {},
     "output_type": "execute_result"
    }
   ],
   "source": [
    "total"
   ]
  },
  {
   "cell_type": "markdown",
   "metadata": {},
   "source": [
    "Mean $p_I$:"
   ]
  },
  {
   "cell_type": "code",
   "execution_count": 57,
   "metadata": {},
   "outputs": [
    {
     "name": "stdout",
     "output_type": "stream",
     "text": [
      "0 2.22314621942e-06\n",
      "5 2.19300354914e-06\n",
      "10 2.20068153105e-06\n",
      "15 2.19501607971e-06\n",
      "20 2.21385450493e-06\n",
      "25 2.18692501456e-06\n",
      "30 2.22549353095e-06\n",
      "35 2.22688786117e-06\n",
      "40 2.21249551498e-06\n",
      "45 2.2530885692e-06\n",
      "50 2.21870405763e-06\n",
      "55 2.21828093991e-06\n",
      "60 2.19817888644e-06\n",
      "2.21275048147e-06\n"
     ]
    }
   ],
   "source": [
    "pI = 0\n",
    "\n",
    "for t in sorted(transcriptome_t):\n",
    "    print t, 1.0 * sum(initations_per_second_per_phase[t].values()) / sum(transcriptome_t[t].values())\n",
    "    \n",
    "    pI += 1.0 * sum(initations_per_second_per_phase[t].values()) / sum(transcriptome_t[t].values())\n",
    "\n",
    "pI = pI / len(transcriptome_t)\n",
    "print pI"
   ]
  },
  {
   "cell_type": "code",
   "execution_count": 59,
   "metadata": {},
   "outputs": [],
   "source": [
    "orf_genomic_dict = pkl.load(open(\"../../parameters/orf_coding.p\"))\n",
    "orf_lengths = {prot: len(orf_genomic_dict[prot]) for prot in orf_genomic_dict}"
   ]
  },
  {
   "cell_type": "code",
   "execution_count": 62,
   "metadata": {},
   "outputs": [],
   "source": [
    "orf_lengths = {gene: orf_lengths[gene] for gene in init_rates_plotkin if gene in orf_lengths} "
   ]
  },
  {
   "cell_type": "code",
   "execution_count": 65,
   "metadata": {},
   "outputs": [
    {
     "data": {
      "text/plain": [
       "523.4016115351993"
      ]
     },
     "execution_count": 65,
     "metadata": {},
     "output_type": "execute_result"
    }
   ],
   "source": [
    "np.mean(orf_lengths.values()) / 3"
   ]
  },
  {
   "cell_type": "markdown",
   "metadata": {},
   "source": [
    "Weighted by abundance:"
   ]
  },
  {
   "cell_type": "code",
   "execution_count": 66,
   "metadata": {},
   "outputs": [],
   "source": [
    "weighted_orf_lengths = {gene: orf_lengths[gene] * transcriptome[gene] for gene in transcriptome if gene in orf_lengths}"
   ]
  },
  {
   "cell_type": "code",
   "execution_count": 72,
   "metadata": {},
   "outputs": [
    {
     "data": {
      "text/plain": [
       "1171.5209252226464"
      ]
     },
     "execution_count": 72,
     "metadata": {},
     "output_type": "execute_result"
    }
   ],
   "source": [
    "np.mean(weighted_orf_lengths.values()) / np.mean(transcriptome.values())"
   ]
  }
 ],
 "metadata": {
  "kernelspec": {
   "display_name": "Python 2",
   "language": "python",
   "name": "python2"
  },
  "language_info": {
   "codemirror_mode": {
    "name": "ipython",
    "version": 2
   },
   "file_extension": ".py",
   "mimetype": "text/x-python",
   "name": "python",
   "nbconvert_exporter": "python",
   "pygments_lexer": "ipython2",
   "version": "2.7.15rc1"
  }
 },
 "nbformat": 4,
 "nbformat_minor": 2
}
