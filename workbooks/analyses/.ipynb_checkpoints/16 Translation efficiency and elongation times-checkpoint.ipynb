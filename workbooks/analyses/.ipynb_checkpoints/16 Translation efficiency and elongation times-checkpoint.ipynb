{
 "cells": [
  {
   "cell_type": "markdown",
   "metadata": {},
   "source": [
    "## Analyze elongation time and collision frequencies"
   ]
  },
  {
   "cell_type": "code",
   "execution_count": 1,
   "metadata": {},
   "outputs": [],
   "source": [
    "import cPickle as pkl\n",
    "import pandas as pd\n",
    "import numpy as np"
   ]
  },
  {
   "cell_type": "raw",
   "metadata": {},
   "source": [
    "files = [\n",
    "'/home/martin/git/TRSL/results/1000 ribosomes, 30061 phase transcriptome, varying tRNAs, full exome, no decay, median-enhanced initiation rates according to Shah, deltat=0.05s_20180403_1137_1000_ribosomes_1200s.p',\n",
    "'/home/martin/git/TRSL/results/1000 ribosomes, 60000 phase transcriptome, varying tRNAs, full exome, no decay, median-enhanced initiation rates according to Shah, deltat=0.05s_20180403_1027_1000_ribosomes_1200s.p',\n",
    "'/home/martin/git/TRSL/results/2000 ribosomes, 30061 phase transcriptome, varying tRNAs, full exome, no decay, median-enhanced initiation rates according to Shah, deltat=0.05s_20180403_1502_2000_ribosomes_1200s.p',\n",
    "'/home/martin/git/TRSL/results/2000 ribosomes, 60000 phase transcriptome, varying tRNAs, full exome, no decay, median-enhanced initiation rates according to Shah, deltat=0.05s_20180403_1341_2000_ribosomes_1200s.p',\n",
    "'/home/martin/git/TRSL/results/5000 ribosomes, 30061 phase transcriptome, varying tRNAs, full exome, no decay, median-enhanced initiation rates according to Shah, deltat=0.05s_20180403_1847_5000_ribosomes_1200s.p',\n",
    "'/home/martin/git/TRSL/results/5000 ribosomes, 60000 phase transcriptome, varying tRNAs, full exome, no decay, median-enhanced initiation rates according to Shah, deltat=0.05s_20180403_1721_5000_ribosomes_1200s.p',\n",
    "'/home/martin/git/TRSL/results/10000 ribosomes, 30061 phase transcriptome, varying tRNAs, full exome, no decay, median-enhanced initiation rates according to Shah, deltat=0.05s_20180404_0214_10000_ribosomes_1200s.p',\n",
    "'/home/martin/git/TRSL/results/10000 ribosomes, 60000 phase transcriptome, varying tRNAs, full exome, no decay, median-enhanced initiation rates according to Shah, deltat=0.05s_20180403_2216_10000_ribosomes_1200s.p',\n",
    "'/home/martin/git/TRSL/results/20000 ribosomes, 30061 phase transcriptome, varying tRNAs, full exome, no decay, median-enhanced initiation rates according to Shah, deltat=0.05s_20180404_2134_20000_ribosomes_1200s.p',\n",
    "'/home/martin/git/TRSL/results/20000 ribosomes, 60000 phase transcriptome, varying tRNAs, full exome, no decay, median-enhanced initiation rates according to Shah, deltat=0.05s_20180404_1135_20000_ribosomes_1200s.p',\n",
    "'/home/martin/git/TRSL/results/50000 ribosomes, 30061 phase transcriptome, varying tRNAs, full exome, no decay, median-enhanced initiation rates according to Shah, deltat=0.05s_20180406_1349_50000_ribosomes_1200s.p',\n",
    "'/home/martin/git/TRSL/results/50000 ribosomes, 60000 phase transcriptome, varying tRNAs, full exome, no decay, median-enhanced initiation rates according to Shah, deltat=0.05s_20180405_2214_50000_ribosomes_1200s.p',\n",
    "'/home/martin/git/TRSL/results/100000 ribosomes, 30061 phase transcriptome, varying tRNAs, full exome, no decay, median-enhanced initiation rates according to Shah, deltat=0.05s_20180407_2239_100000_ribosomes_1200s.p',\n",
    "'/home/martin/git/TRSL/results/100000 ribosomes, 60000 phase transcriptome, varying tRNAs, full exome, no decay, median-enhanced initiation rates according to Shah, deltat=0.05s_20180407_0928_100000_ribosomes_1200s.p',\n",
    "'/home/martin/git/TRSL/results/200000 ribosomes, 30061 phase transcriptome, varying tRNAs, full exome, no decay, median-enhanced initiation rates according to Shah, deltat=0.05s_20180410_0108_200000_ribosomes_1200s.p',\n",
    "'/home/martin/git/TRSL/results/200000 ribosomes, 60000 phase transcriptome, varying tRNAs, full exome, no decay, median-enhanced initiation rates according to Shah, deltat=0.05s_20180409_0404_200000_ribosomes_1200s.p',\n",
    "'/home/martin/git/TRSL/results/500000 ribosomes, 30061 phase transcriptome, varying tRNAs, full exome, no decay, median-enhanced initiation rates according to Shah, deltat=0.05s_20180414_0349_500000_ribosomes_1200s.p',\n",
    "'/home/martin/git/TRSL/results/500000 ribosomes, 60000 phase transcriptome, varying tRNAs, full exome, no decay, median-enhanced initiation rates according to Shah, deltat=0.05s_20180412_1054_500000_ribosomes_1200s.p',\n",
    "]\n",
    "descriptor = '_varying_tRNAs'"
   ]
  },
  {
   "cell_type": "code",
   "execution_count": 2,
   "metadata": {},
   "outputs": [],
   "source": [
    "files = [\n",
    "\"/home/martin/git/TRSL/results/1000 ribosomes, 30061 phase transcriptome, constant tRNAs, full exome, median-enhanced initiation rates according to Shah, deltat=0.05s_20180405_0023_1000_ribosomes_1200s.p\",\n",
    "\"/home/martin/git/TRSL/results/2000 ribosomes, 60000 phase transcriptome, constant tRNAs, full exome, median-enhanced initiation rates according to Shah, deltat=0.05s_20180405_0911_2000_ribosomes_1200s.p\",\n",
    "\"/home/martin/git/TRSL/results/1000 ribosomes, 60000 phase transcriptome, constant tRNAs, full exome, median-enhanced initiation rates according to Shah, deltat=0.05s_20180404_2001_1000_ribosomes_1200s.p\",\n",
    "\"/home/martin/git/TRSL/results/2000 ribosomes, 30061 phase transcriptome, constant tRNAs, full exome, median-enhanced initiation rates according to Shah, deltat=0.05s_20180405_1345_2000_ribosomes_1200s.p\",\n",
    "\"/home/martin/git/TRSL/results/5000 ribosomes, 60000 phase transcriptome, constant tRNAs, full exome, median-enhanced initiation rates according to Shah, deltat=0.05s_20180406_0032_5000_ribosomes_1200s.p\",\n",
    "\"/home/martin/git/TRSL/results/5000 ribosomes, 30061 phase transcriptome, constant tRNAs, full exome, median-enhanced initiation rates according to Shah, deltat=0.05s_20180406_0627_5000_ribosomes_1200s.p\",\n",
    "\"/home/martin/git/TRSL/results/10000 ribosomes, 60000 phase transcriptome, constant tRNAs, full exome, median-enhanced initiation rates according to Shah, deltat=0.05s_20180406_1659_10000_ribosomes_1200s.p\",\n",
    "\"/home/martin/git/TRSL/results/10000 ribosomes, 30061 phase transcriptome, constant tRNAs, full exome, median-enhanced initiation rates according to Shah, deltat=0.05s_20180406_2111_10000_ribosomes_1200s.p\",\n",
    "\"/home/martin/git/TRSL/results/20000 ribosomes, 60000 phase transcriptome, constant tRNAs, full exome, median-enhanced initiation rates according to Shah, deltat=0.05s_20180407_0548_20000_ribosomes_1200s.p\",\n",
    "\"/home/martin/git/TRSL/results/20000 ribosomes, 30061 phase transcriptome, constant tRNAs, full exome, median-enhanced initiation rates according to Shah, deltat=0.05s_20180407_1116_20000_ribosomes_1200s.p\",\n",
    "\"/home/martin/git/TRSL/results/200000 ribosomes, 60000 phase transcriptome, constant tRNAs, full exome, median-enhanced initiation rates according to Shah, deltat=0.05s_20180410_1948_200000_ribosomes_1200s.p\",\n",
    "\"/home/martin/git/TRSL/results/50000 ribosomes, 60000 phase transcriptome, constant tRNAs, full exome, median-enhanced initiation rates according to Shah, deltat=0.05s_20180407_2350_50000_ribosomes_1200s.p\",\n",
    "\"/home/martin/git/TRSL/results/50000 ribosomes, 30061 phase transcriptome, constant tRNAs, full exome, median-enhanced initiation rates according to Shah, deltat=0.05s_20180408_0821_50000_ribosomes_1200s.p\",\n",
    "\"/home/martin/git/TRSL/results/100000 ribosomes, 60000 phase transcriptome, constant tRNAs, full exome, median-enhanced initiation rates according to Shah, deltat=0.05s_20180409_0259_100000_ribosomes_1200s.p\",\n",
    "\"/home/martin/git/TRSL/results/200000 ribosomes, 30061 phase transcriptome, constant tRNAs, full exome, median-enhanced initiation rates according to Shah, deltat=0.05s_20180411_1552_200000_ribosomes_1200s.p\",\n",
    "\"/home/martin/git/TRSL/results/100000 ribosomes, 30061 phase transcriptome, constant tRNAs, full exome, median-enhanced initiation rates according to Shah, deltat=0.05s_20180409_1516_100000_ribosomes_1200s.p\",\n",
    "\"/home/martin/git/TRSL/results/500000 ribosomes, 60000 phase transcriptome, constant tRNAs, full exome, median-enhanced initiation rates according to Shah, deltat=0.05s_20180413_1955_500000_ribosomes_1200s.p\",\n",
    "\"/home/martin/git/TRSL/results/500000 ribosomes, 30061 phase transcriptome, constant tRNAs, full exome, median-enhanced initiation rates according to Shah, deltat=0.05s_20180414_1659_500000_ribosomes_1200s.p\",\n",
    "]\n",
    "descriptor = '_constant_tRNAs'"
   ]
  },
  {
   "cell_type": "markdown",
   "metadata": {},
   "source": [
    "To convert from numpypy to numpy:"
   ]
  },
  {
   "cell_type": "code",
   "execution_count": 3,
   "metadata": {},
   "outputs": [],
   "source": [
    "from tempfile import mkstemp\n",
    "from shutil import move\n",
    "from os import remove, close\n",
    "\n",
    "def replace(file_path, pattern, subst):\n",
    "    #Create temp file\n",
    "    fh, abs_path = mkstemp()\n",
    "    with open(abs_path,'w') as new_file:\n",
    "        with open(file_path) as old_file:\n",
    "            for line in old_file:\n",
    "                new_file.write(line.replace(pattern, subst))\n",
    "    close(fh)\n",
    "    #Remove original file\n",
    "    remove(file_path)\n",
    "    #Move new file\n",
    "    move(abs_path, file_path)"
   ]
  },
  {
   "cell_type": "markdown",
   "metadata": {},
   "source": [
    "Run only once per file:"
   ]
  },
  {
   "cell_type": "code",
   "execution_count": null,
   "metadata": {},
   "outputs": [
    {
     "name": "stdout",
     "output_type": "stream",
     "text": [
      "/home/martin/git/TRSL/results/1000 ribosomes, 30061 phase transcriptome, constant tRNAs, full exome, median-enhanced initiation rates according to Shah, deltat=0.05s_20180405_0023_1000_ribosomes_1200s.p\n",
      "/home/martin/git/TRSL/results/2000 ribosomes, 60000 phase transcriptome, constant tRNAs, full exome, median-enhanced initiation rates according to Shah, deltat=0.05s_20180405_0911_2000_ribosomes_1200s.p\n"
     ]
    }
   ],
   "source": [
    "for filename in files:\n",
    "    print filename\n",
    "    replace(filename, \"_numpypy.multiarray\", \"numpy.core.multiarray\")"
   ]
  },
  {
   "cell_type": "markdown",
   "metadata": {},
   "source": [
    "Blacklisted species:"
   ]
  },
  {
   "cell_type": "code",
   "execution_count": null,
   "metadata": {},
   "outputs": [],
   "source": [
    "blacklist = ['ribos._bound', 'ribos._free', 'tRNA_free', 'tRNA_bound', 'ATP', 'GTP', 'AMP', 'GDP', 'protein', \n",
    "             'proteins', 'peptide_bonds']"
   ]
  },
  {
   "cell_type": "markdown",
   "metadata": {},
   "source": [
    "Data frame at cell level:"
   ]
  },
  {
   "cell_type": "code",
   "execution_count": null,
   "metadata": {},
   "outputs": [],
   "source": [
    "dfc = pd.DataFrame(columns=['ribosomes', 'transcripts', 'collisions', 'nocollisions', 'peptide_bonds'])"
   ]
  },
  {
   "cell_type": "markdown",
   "metadata": {},
   "source": [
    "Fill data frames:"
   ]
  },
  {
   "cell_type": "code",
   "execution_count": null,
   "metadata": {},
   "outputs": [],
   "source": [
    "rows = []\n",
    "dft_columns = ['length', 'init_rate', 'ribosomes', 'tic_toc', 'geneID', 'transcripts', 'index']\n",
    "\n",
    "for i, filename in enumerate(files):\n",
    "    print filename\n",
    "    results = pkl.load(open(filename))\n",
    "    \n",
    "    # append to cell level data frame\n",
    "    print 'cell level...'\n",
    "    rowvals = [results['n_ribosomes'], len(results['transcriptome']), results['collisions'], \n",
    "               results['nocollisions'], results['peptide_bonds']]\n",
    "    row = dict(zip(list(dfc.columns), rowvals))\n",
    "    #print row\n",
    "    dfc = dfc.append(row, ignore_index=True)\n",
    "    #print dfc.head()\n",
    "    \n",
    "    # append to transcript level data frame\n",
    "    print 'transcript level...'\n",
    "    \n",
    "    for transcript in results['transcriptome']:\n",
    "        av_time = np.mean([tictoc[1] - tictoc[0] for tictoc in transcript.tic_toc])\n",
    "        rowvals = [transcript.geneID, transcript.index, transcript.init_rate, transcript.length, \n",
    "                   results['n_ribosomes'], av_time, len(results['transcriptome'])]\n",
    "        row = dict(zip(list(dft_columns), rowvals))\n",
    "        #print row\n",
    "        rows.append(row)\n",
    "            \n",
    "    # append to gene level data frame\n",
    "    print 'gene level...'\n",
    "    header = str(results['n_ribosomes']) + '_' + str(len(results['transcriptome']))\n",
    "    tc = results['timecourses']\n",
    "    efficiency_items = [(gene, (tc[gene][-1] - tc[gene][-6001]) / 300.) for gene in tc if gene not in blacklist]\n",
    "    tmp = pd.DataFrame(efficiency_items, columns = ['gene', header]).set_index('gene')\n",
    "    \n",
    "    if i == 0:  # first time\n",
    "        dfg = tmp\n",
    "    else:\n",
    "        dfg = pd.merge(dfg, tmp, left_index=True, right_index=True, how='outer')\n",
    "\n",
    "dft = pd.DataFrame(rows)\n",
    "dft.columns = dft_columns"
   ]
  },
  {
   "cell_type": "code",
   "execution_count": null,
   "metadata": {},
   "outputs": [],
   "source": [
    "dfc"
   ]
  },
  {
   "cell_type": "code",
   "execution_count": null,
   "metadata": {},
   "outputs": [],
   "source": [
    "dft.columns = ['ribosomes', 'transcripts', 'index', 'geneID', 'init_rate', 'length', 'tic_toc']"
   ]
  },
  {
   "cell_type": "code",
   "execution_count": null,
   "metadata": {},
   "outputs": [],
   "source": [
    "dft"
   ]
  },
  {
   "cell_type": "code",
   "execution_count": null,
   "metadata": {},
   "outputs": [],
   "source": [
    "dfg"
   ]
  },
  {
   "cell_type": "code",
   "execution_count": 16,
   "metadata": {},
   "outputs": [],
   "source": [
    "dfc.to_pickle('../../results/dfc' + descriptor + '.p')"
   ]
  },
  {
   "cell_type": "code",
   "execution_count": 21,
   "metadata": {},
   "outputs": [],
   "source": [
    "dft.to_pickle('../../results/dft' + descriptor + '.p')"
   ]
  },
  {
   "cell_type": "code",
   "execution_count": 18,
   "metadata": {},
   "outputs": [],
   "source": [
    "dfg.to_pickle('../../results/dfg' + descriptor + '.p')"
   ]
  },
  {
   "cell_type": "code",
   "execution_count": null,
   "metadata": {},
   "outputs": [],
   "source": []
  }
 ],
 "metadata": {
  "kernelspec": {
   "display_name": "Python 2",
   "language": "python",
   "name": "python2"
  },
  "language_info": {
   "codemirror_mode": {
    "name": "ipython",
    "version": 2
   },
   "file_extension": ".py",
   "mimetype": "text/x-python",
   "name": "python",
   "nbconvert_exporter": "python",
   "pygments_lexer": "ipython2",
   "version": "2.7.12"
  }
 },
 "nbformat": 4,
 "nbformat_minor": 2
}
