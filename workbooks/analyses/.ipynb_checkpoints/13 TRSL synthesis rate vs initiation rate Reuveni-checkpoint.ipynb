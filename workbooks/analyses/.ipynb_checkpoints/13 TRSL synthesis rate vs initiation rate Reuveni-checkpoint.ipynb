{
 "cells": [
  {
   "cell_type": "code",
   "execution_count": 1,
   "metadata": {},
   "outputs": [],
   "source": [
    "import os.path\n",
    "import pandas as pd\n",
    "import cPickle as pkl"
   ]
  },
  {
   "cell_type": "code",
   "execution_count": 2,
   "metadata": {},
   "outputs": [],
   "source": [
    "homedir = r'/home/martin/git/TRSL/results'"
   ]
  },
  {
   "cell_type": "code",
   "execution_count": 3,
   "metadata": {},
   "outputs": [],
   "source": [
    "runs = [\n",
    "    r'updated Shah transcriptome, full exome, no decay, updated initiation rates according to Shah, initiation rates scaled by 0.01_20180221_1409_200000_ribosomes_1800s.p',\n",
    "    r'updated Shah transcriptome, full exome, no decay, updated initiation rates according to Shah, initiation rates scaled by 0.1_20180221_1629_200000_ribosomes_1800s.p',\n",
    "    r'updated Shah transcriptome, full exome, no decay, updated initiation rates according to Shah, initiation rates scaled by 1.0_20180221_2154_200000_ribosomes_1800s.p',\n",
    "    r'updated Shah transcriptome, full exome, no decay, updated initiation rates according to Shah, initiation rates scaled by 10.0_20180222_0414_200000_ribosomes_1800s.p',\n",
    "    r'updated Shah transcriptome, full exome, no decay, updated initiation rates according to Shah, initiation rates scaled by 100.0_20180222_0845_200000_ribosomes_1800s.p'\n",
    "    ]"
   ]
  },
  {
   "cell_type": "markdown",
   "metadata": {},
   "source": [
    "The scaling factors I used in the simulation:"
   ]
  },
  {
   "cell_type": "code",
   "execution_count": 4,
   "metadata": {},
   "outputs": [],
   "source": [
    "scales = [0.01, 0.1, 1.0, 10.0, 100.0]"
   ]
  },
  {
   "cell_type": "markdown",
   "metadata": {},
   "source": [
    "Remove numpypy dependence:"
   ]
  },
  {
   "cell_type": "code",
   "execution_count": 5,
   "metadata": {},
   "outputs": [],
   "source": [
    "from tempfile import mkstemp\n",
    "from shutil import move\n",
    "from os import remove, close\n",
    "\n",
    "def replace(file_path, pattern, subst):\n",
    "    #Create temp file\n",
    "    fh, abs_path = mkstemp()\n",
    "    with open(abs_path, 'w') as new_file:\n",
    "        with open(file_path) as old_file:\n",
    "            for line in old_file:\n",
    "                new_file.write(line.replace(pattern, subst))\n",
    "    close(fh)\n",
    "    #Remove original file\n",
    "    remove(file_path)\n",
    "    #Move new file\n",
    "    move(abs_path, file_path)"
   ]
  },
  {
   "cell_type": "code",
   "execution_count": 6,
   "metadata": {},
   "outputs": [
    {
     "name": "stdout",
     "output_type": "stream",
     "text": [
      "updated Shah transcriptome, full exome, no decay, updated initiation rates according to Shah, initiation rates scaled by 0.01_20180221_1409_200000_ribosomes_1800s.p\n",
      "updated Shah transcriptome, full exome, no decay, updated initiation rates according to Shah, initiation rates scaled by 0.1_20180221_1629_200000_ribosomes_1800s.p\n",
      "updated Shah transcriptome, full exome, no decay, updated initiation rates according to Shah, initiation rates scaled by 1.0_20180221_2154_200000_ribosomes_1800s.p\n",
      "updated Shah transcriptome, full exome, no decay, updated initiation rates according to Shah, initiation rates scaled by 10.0_20180222_0414_200000_ribosomes_1800s.p\n",
      "updated Shah transcriptome, full exome, no decay, updated initiation rates according to Shah, initiation rates scaled by 100.0_20180222_0845_200000_ribosomes_1800s.p\n"
     ]
    }
   ],
   "source": [
    "for run in runs:\n",
    "    print run\n",
    "    filepath = os.path.join(homedir, run)\n",
    "    #replace(filepath, \"_numpypy.multiarray\", \"numpy.core.multiarray\") # this is needed only once"
   ]
  },
  {
   "cell_type": "markdown",
   "metadata": {},
   "source": [
    "Non-proteins:"
   ]
  },
  {
   "cell_type": "code",
   "execution_count": 7,
   "metadata": {},
   "outputs": [],
   "source": [
    "blacklist = ['AMP', 'ATP', 'GDP', 'GTP', \n",
    "             'peptide_bonds', 'proteins', 'ribos._bound', 'ribos._free', 'tRNA_bound', 'tRNA_free', \n",
    "             'tRNA_free_01', 'tRNA_free_02', 'tRNA_free_03', 'tRNA_free_04', 'tRNA_free_05', 'tRNA_free_06', \n",
    "             'tRNA_free_07', 'tRNA_free_08', 'tRNA_free_09', 'tRNA_free_10', 'tRNA_free_11', 'tRNA_free_12', \n",
    "             'tRNA_free_13', 'tRNA_free_14', 'tRNA_free_15', 'tRNA_free_16', 'tRNA_free_17', 'tRNA_free_18', \n",
    "             'tRNA_free_19', 'tRNA_free_20', 'tRNA_free_21', 'tRNA_free_22', 'tRNA_free_23', 'tRNA_free_24', \n",
    "             'tRNA_free_25', 'tRNA_free_27', 'tRNA_free_28', 'tRNA_free_29', 'tRNA_free_30', 'tRNA_free_31', \n",
    "             'tRNA_free_32', 'tRNA_free_33', 'tRNA_free_34', 'tRNA_free_35', 'tRNA_free_36', 'tRNA_free_37', \n",
    "             'tRNA_free_38', 'tRNA_free_39', 'tRNA_free_40', 'tRNA_free_41', 'tRNA_free_42', 'tRNA_free_43']"
   ]
  },
  {
   "cell_type": "code",
   "execution_count": 8,
   "metadata": {},
   "outputs": [],
   "source": [
    "start, stop, step = 6000, 8999, 0.2"
   ]
  },
  {
   "cell_type": "code",
   "execution_count": 19,
   "metadata": {},
   "outputs": [],
   "source": [
    "protein_synthesis_rates = pd.DataFrame(columns = scales)"
   ]
  },
  {
   "cell_type": "code",
   "execution_count": 20,
   "metadata": {},
   "outputs": [
    {
     "data": {
      "text/plain": [
       "Series([], Name: 0.01, dtype: object)"
      ]
     },
     "execution_count": 20,
     "metadata": {},
     "output_type": "execute_result"
    }
   ],
   "source": [
    "protein_synthesis_rates[0.01]"
   ]
  },
  {
   "cell_type": "code",
   "execution_count": 30,
   "metadata": {},
   "outputs": [
    {
     "name": "stdout",
     "output_type": "stream",
     "text": [
      "0.01\n",
      "updated Shah transcriptome, full exome, no decay, updated initiation rates according to Shah, initiation rates scaled by 0.01_20180221_1409_200000_ribosomes_1800s.p\n",
      "4429\n",
      "0.1\n",
      "updated Shah transcriptome, full exome, no decay, updated initiation rates according to Shah, initiation rates scaled by 0.1_20180221_1629_200000_ribosomes_1800s.p\n",
      "4525\n",
      "1.0\n",
      "updated Shah transcriptome, full exome, no decay, updated initiation rates according to Shah, initiation rates scaled by 1.0_20180221_2154_200000_ribosomes_1800s.p\n",
      "4527\n",
      "10.0\n",
      "updated Shah transcriptome, full exome, no decay, updated initiation rates according to Shah, initiation rates scaled by 10.0_20180222_0414_200000_ribosomes_1800s.p\n",
      "4527\n",
      "100.0\n",
      "updated Shah transcriptome, full exome, no decay, updated initiation rates according to Shah, initiation rates scaled by 100.0_20180222_0845_200000_ribosomes_1800s.p\n",
      "4527\n"
     ]
    }
   ],
   "source": [
    "for scale, run in zip(scales, runs):\n",
    "    print scale\n",
    "    print run\n",
    "    filepath = os.path.join(homedir, run)\n",
    "    results = pkl.load(open(filepath))\n",
    "    print len(results['timecourses'])\n",
    "    tmp = {gene: (results['timecourses'][gene][-1] - results['timecourses'][gene][-1 - (stop - start)]) / (step * (stop - start)) for gene in results['timecourses'] if gene not in blacklist}\n",
    "    tmp_frame = pd.Series(tmp).to_frame(name=scale)\n",
    "    pd.merge(protein_synthesis_rates, tmp_frame, how='outer')"
   ]
  },
  {
   "cell_type": "code",
   "execution_count": 31,
   "metadata": {},
   "outputs": [
    {
     "data": {
      "text/html": [
       "<div>\n",
       "<table border=\"1\" class=\"dataframe\">\n",
       "  <thead>\n",
       "    <tr style=\"text-align: right;\">\n",
       "      <th></th>\n",
       "      <th>0.01</th>\n",
       "      <th>0.1</th>\n",
       "      <th>1.0</th>\n",
       "      <th>10.0</th>\n",
       "      <th>100.0</th>\n",
       "    </tr>\n",
       "  </thead>\n",
       "  <tbody>\n",
       "    <tr>\n",
       "      <th>YAL001C</th>\n",
       "      <td>0.003334</td>\n",
       "      <td>0.018339</td>\n",
       "      <td>0.038346</td>\n",
       "      <td>0.065022</td>\n",
       "      <td>0.071691</td>\n",
       "    </tr>\n",
       "    <tr>\n",
       "      <th>YAL002W</th>\n",
       "      <td>0.000000</td>\n",
       "      <td>0.005002</td>\n",
       "      <td>0.011671</td>\n",
       "      <td>0.008336</td>\n",
       "      <td>0.023341</td>\n",
       "    </tr>\n",
       "    <tr>\n",
       "      <th>YAL003W</th>\n",
       "      <td>3.547849</td>\n",
       "      <td>22.654218</td>\n",
       "      <td>54.239747</td>\n",
       "      <td>63.094365</td>\n",
       "      <td>64.996666</td>\n",
       "    </tr>\n",
       "    <tr>\n",
       "      <th>YAL007C</th>\n",
       "      <td>0.061687</td>\n",
       "      <td>0.315105</td>\n",
       "      <td>0.878626</td>\n",
       "      <td>0.980327</td>\n",
       "      <td>1.008670</td>\n",
       "    </tr>\n",
       "    <tr>\n",
       "      <th>YAL008W</th>\n",
       "      <td>0.021674</td>\n",
       "      <td>0.105035</td>\n",
       "      <td>0.258419</td>\n",
       "      <td>0.286762</td>\n",
       "      <td>0.301767</td>\n",
       "    </tr>\n",
       "    <tr>\n",
       "      <th>YAL009W</th>\n",
       "      <td>0.005002</td>\n",
       "      <td>0.018339</td>\n",
       "      <td>0.036679</td>\n",
       "      <td>0.051684</td>\n",
       "      <td>0.050017</td>\n",
       "    </tr>\n",
       "    <tr>\n",
       "      <th>YAL010C</th>\n",
       "      <td>0.001667</td>\n",
       "      <td>0.013338</td>\n",
       "      <td>0.026676</td>\n",
       "      <td>0.041681</td>\n",
       "      <td>0.038346</td>\n",
       "    </tr>\n",
       "    <tr>\n",
       "      <th>YAL011W</th>\n",
       "      <td>0.001667</td>\n",
       "      <td>0.008336</td>\n",
       "      <td>0.040013</td>\n",
       "      <td>0.048349</td>\n",
       "      <td>0.051684</td>\n",
       "    </tr>\n",
       "    <tr>\n",
       "      <th>YAL012W</th>\n",
       "      <td>0.358453</td>\n",
       "      <td>2.147382</td>\n",
       "      <td>5.106702</td>\n",
       "      <td>6.137046</td>\n",
       "      <td>6.010337</td>\n",
       "    </tr>\n",
       "    <tr>\n",
       "      <th>YAL013W</th>\n",
       "      <td>0.003334</td>\n",
       "      <td>0.008336</td>\n",
       "      <td>0.070023</td>\n",
       "      <td>0.081694</td>\n",
       "      <td>0.073358</td>\n",
       "    </tr>\n",
       "  </tbody>\n",
       "</table>\n",
       "</div>"
      ],
      "text/plain": [
       "           0.01       0.10       1.00       10.00      100.00\n",
       "YAL001C  0.003334   0.018339   0.038346   0.065022   0.071691\n",
       "YAL002W  0.000000   0.005002   0.011671   0.008336   0.023341\n",
       "YAL003W  3.547849  22.654218  54.239747  63.094365  64.996666\n",
       "YAL007C  0.061687   0.315105   0.878626   0.980327   1.008670\n",
       "YAL008W  0.021674   0.105035   0.258419   0.286762   0.301767\n",
       "YAL009W  0.005002   0.018339   0.036679   0.051684   0.050017\n",
       "YAL010C  0.001667   0.013338   0.026676   0.041681   0.038346\n",
       "YAL011W  0.001667   0.008336   0.040013   0.048349   0.051684\n",
       "YAL012W  0.358453   2.147382   5.106702   6.137046   6.010337\n",
       "YAL013W  0.003334   0.008336   0.070023   0.081694   0.073358"
      ]
     },
     "execution_count": 31,
     "metadata": {},
     "output_type": "execute_result"
    }
   ],
   "source": [
    "protein_synthesis_rates.head(n=10)"
   ]
  },
  {
   "cell_type": "code",
   "execution_count": 32,
   "metadata": {},
   "outputs": [
    {
     "data": {
      "text/plain": [
       "4377"
      ]
     },
     "execution_count": 32,
     "metadata": {},
     "output_type": "execute_result"
    }
   ],
   "source": [
    "len(protein_synthesis_rates)"
   ]
  },
  {
   "cell_type": "markdown",
   "metadata": {},
   "source": [
    "Total synthesis rates:"
   ]
  },
  {
   "cell_type": "code",
   "execution_count": 38,
   "metadata": {},
   "outputs": [],
   "source": [
    "protein_synthesis_rates_sum = protein_synthesis_rates.sum(axis=0)"
   ]
  },
  {
   "cell_type": "code",
   "execution_count": 40,
   "metadata": {},
   "outputs": [
    {
     "data": {
      "text/plain": [
       "<matplotlib.axes._subplots.AxesSubplot at 0x7fb6b4814dd0>"
      ]
     },
     "execution_count": 40,
     "metadata": {},
     "output_type": "execute_result"
    },
    {
     "data": {
      "image/png": "[encoded data removed]",
      "text/plain": [
       "<matplotlib.figure.Figure at 0x7fb6b483c690>"
      ]
     },
     "metadata": {},
     "output_type": "display_data"
    }
   ],
   "source": [
    "protein_synthesis_rates_sum.plot(logx=True)"
   ]
  },
  {
   "cell_type": "code",
   "execution_count": null,
   "metadata": {},
   "outputs": [],
   "source": []
  }
 ],
 "metadata": {
  "kernelspec": {
   "display_name": "Python 2",
   "language": "python",
   "name": "python2"
  },
  "language_info": {
   "codemirror_mode": {
    "name": "ipython",
    "version": 2
   },
   "file_extension": ".py",
   "mimetype": "text/x-python",
   "name": "python",
   "nbconvert_exporter": "python",
   "pygments_lexer": "ipython2",
   "version": "2.7.12"
  }
 },
 "nbformat": 4,
 "nbformat_minor": 2
}
