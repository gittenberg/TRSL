{
 "cells": [
  {
   "cell_type": "markdown",
   "metadata": {},
   "source": [
    "# Synthesis Rate Regressions with statsmodels"
   ]
  },
  {
   "cell_type": "code",
   "execution_count": 170,
   "metadata": {},
   "outputs": [],
   "source": [
    "import cPickle as pkl\n",
    "import pandas as pd\n",
    "\n",
    "import statsmodels.api as sm\n",
    "import statsmodels.formula.api as smf"
   ]
  },
  {
   "cell_type": "markdown",
   "metadata": {},
   "source": [
    "## 1. Get data"
   ]
  },
  {
   "cell_type": "code",
   "execution_count": 171,
   "metadata": {},
   "outputs": [],
   "source": [
    "data = pkl.load(open(\"../../parameters/regression_data.p\", \"rb\"))"
   ]
  },
  {
   "cell_type": "code",
   "execution_count": 172,
   "metadata": {},
   "outputs": [],
   "source": [
    "data = data.set_index('name')"
   ]
  },
  {
   "cell_type": "markdown",
   "metadata": {},
   "source": [
    "```statsmodels``` does not work with spaces in column names:"
   ]
  },
  {
   "cell_type": "code",
   "execution_count": 173,
   "metadata": {},
   "outputs": [],
   "source": [
    "data.columns = [elem.replace(' ', '_').replace('.', '').replace('[', '').replace(']', '').replace('/', '_per_') \n",
    "                for elem in data.columns]"
   ]
  },
  {
   "cell_type": "code",
   "execution_count": 174,
   "metadata": {},
   "outputs": [
    {
     "data": {
      "text/html": [
       "<div>\n",
       "<style scoped>\n",
       "    .dataframe tbody tr th:only-of-type {\n",
       "        vertical-align: middle;\n",
       "    }\n",
       "\n",
       "    .dataframe tbody tr th {\n",
       "        vertical-align: top;\n",
       "    }\n",
       "\n",
       "    .dataframe thead th {\n",
       "        text-align: right;\n",
       "    }\n",
       "</style>\n",
       "<table border=\"1\" class=\"dataframe\">\n",
       "  <thead>\n",
       "    <tr style=\"text-align: right;\">\n",
       "      <th></th>\n",
       "      <th>tic_toc_s</th>\n",
       "      <th>ORF_length_nts</th>\n",
       "      <th>elongation_speed_nts_per_s</th>\n",
       "      <th>transcripts</th>\n",
       "      <th>synth_rate_molecules_per_s</th>\n",
       "      <th>synth_rate_per_transcript_molecules_per_transcript_per_s</th>\n",
       "      <th>tAI</th>\n",
       "      <th>p_init</th>\n",
       "      <th>elongation_rate_1_per_s</th>\n",
       "      <th>time_per_initiation_s</th>\n",
       "      <th>time_per_protein_s</th>\n",
       "      <th>synth_rate_exp_molecules_per_s</th>\n",
       "      <th>synth_rate_per_transcript_exp_molecules_per_transcript_per_s</th>\n",
       "      <th>synth_rate_exp_per_transcript_molecules_per_s</th>\n",
       "      <th>p_init_norm</th>\n",
       "      <th>tAI_norm</th>\n",
       "      <th>ORF_length_norm</th>\n",
       "    </tr>\n",
       "    <tr>\n",
       "      <th>name</th>\n",
       "      <th></th>\n",
       "      <th></th>\n",
       "      <th></th>\n",
       "      <th></th>\n",
       "      <th></th>\n",
       "      <th></th>\n",
       "      <th></th>\n",
       "      <th></th>\n",
       "      <th></th>\n",
       "      <th></th>\n",
       "      <th></th>\n",
       "      <th></th>\n",
       "      <th></th>\n",
       "      <th></th>\n",
       "      <th></th>\n",
       "      <th></th>\n",
       "      <th></th>\n",
       "    </tr>\n",
       "  </thead>\n",
       "  <tbody>\n",
       "    <tr>\n",
       "      <th>YJL081C</th>\n",
       "      <td>71.884435</td>\n",
       "      <td>1470</td>\n",
       "      <td>20.449490</td>\n",
       "      <td>5</td>\n",
       "      <td>0.150287</td>\n",
       "      <td>0.030057</td>\n",
       "      <td>0.375582</td>\n",
       "      <td>9.111658e-07</td>\n",
       "      <td>0.013911</td>\n",
       "      <td>1.097495e+06</td>\n",
       "      <td>33.269598</td>\n",
       "      <td>0.072179</td>\n",
       "      <td>0.076161</td>\n",
       "      <td>0.015232</td>\n",
       "      <td>-0.607014</td>\n",
       "      <td>-0.238747</td>\n",
       "      <td>-0.090378</td>\n",
       "    </tr>\n",
       "    <tr>\n",
       "      <th>YMR127C</th>\n",
       "      <td>60.685714</td>\n",
       "      <td>1017</td>\n",
       "      <td>16.758475</td>\n",
       "      <td>1</td>\n",
       "      <td>0.022414</td>\n",
       "      <td>0.022414</td>\n",
       "      <td>0.323240</td>\n",
       "      <td>5.499448e-07</td>\n",
       "      <td>0.016478</td>\n",
       "      <td>1.818364e+06</td>\n",
       "      <td>44.615385</td>\n",
       "      <td>0.062877</td>\n",
       "      <td>0.061032</td>\n",
       "      <td>0.061032</td>\n",
       "      <td>-0.947753</td>\n",
       "      <td>-1.140809</td>\n",
       "      <td>-0.493253</td>\n",
       "    </tr>\n",
       "    <tr>\n",
       "      <th>YPL013C</th>\n",
       "      <td>19.936467</td>\n",
       "      <td>366</td>\n",
       "      <td>18.358318</td>\n",
       "      <td>5</td>\n",
       "      <td>0.318984</td>\n",
       "      <td>0.063797</td>\n",
       "      <td>0.308066</td>\n",
       "      <td>2.289991e-06</td>\n",
       "      <td>0.050159</td>\n",
       "      <td>4.366829e+05</td>\n",
       "      <td>15.674775</td>\n",
       "      <td>NaN</td>\n",
       "      <td>NaN</td>\n",
       "      <td>NaN</td>\n",
       "      <td>0.693630</td>\n",
       "      <td>-1.402317</td>\n",
       "      <td>-1.072218</td>\n",
       "    </tr>\n",
       "    <tr>\n",
       "      <th>YLR440C</th>\n",
       "      <td>97.862222</td>\n",
       "      <td>2130</td>\n",
       "      <td>21.765294</td>\n",
       "      <td>2</td>\n",
       "      <td>0.072126</td>\n",
       "      <td>0.036063</td>\n",
       "      <td>0.368466</td>\n",
       "      <td>1.186173e-06</td>\n",
       "      <td>0.010218</td>\n",
       "      <td>8.430470e+05</td>\n",
       "      <td>27.729084</td>\n",
       "      <td>0.000000</td>\n",
       "      <td>NaN</td>\n",
       "      <td>NaN</td>\n",
       "      <td>-0.347599</td>\n",
       "      <td>-0.361391</td>\n",
       "      <td>0.496592</td>\n",
       "    </tr>\n",
       "    <tr>\n",
       "      <th>YLR192C</th>\n",
       "      <td>26.893313</td>\n",
       "      <td>798</td>\n",
       "      <td>29.672804</td>\n",
       "      <td>22</td>\n",
       "      <td>2.742112</td>\n",
       "      <td>0.124641</td>\n",
       "      <td>0.510948</td>\n",
       "      <td>4.290874e-06</td>\n",
       "      <td>0.037184</td>\n",
       "      <td>2.330528e+05</td>\n",
       "      <td>8.023014</td>\n",
       "      <td>0.444057</td>\n",
       "      <td>0.151083</td>\n",
       "      <td>0.006867</td>\n",
       "      <td>2.581058</td>\n",
       "      <td>2.094147</td>\n",
       "      <td>-0.688020</td>\n",
       "    </tr>\n",
       "  </tbody>\n",
       "</table>\n",
       "</div>"
      ],
      "text/plain": [
       "         tic_toc_s  ORF_length_nts  elongation_speed_nts_per_s  transcripts  \\\n",
       "name                                                                          \n",
       "YJL081C  71.884435            1470                   20.449490            5   \n",
       "YMR127C  60.685714            1017                   16.758475            1   \n",
       "YPL013C  19.936467             366                   18.358318            5   \n",
       "YLR440C  97.862222            2130                   21.765294            2   \n",
       "YLR192C  26.893313             798                   29.672804           22   \n",
       "\n",
       "         synth_rate_molecules_per_s  \\\n",
       "name                                  \n",
       "YJL081C                    0.150287   \n",
       "YMR127C                    0.022414   \n",
       "YPL013C                    0.318984   \n",
       "YLR440C                    0.072126   \n",
       "YLR192C                    2.742112   \n",
       "\n",
       "         synth_rate_per_transcript_molecules_per_transcript_per_s       tAI  \\\n",
       "name                                                                          \n",
       "YJL081C                                           0.030057         0.375582   \n",
       "YMR127C                                           0.022414         0.323240   \n",
       "YPL013C                                           0.063797         0.308066   \n",
       "YLR440C                                           0.036063         0.368466   \n",
       "YLR192C                                           0.124641         0.510948   \n",
       "\n",
       "               p_init  elongation_rate_1_per_s  time_per_initiation_s  \\\n",
       "name                                                                    \n",
       "YJL081C  9.111658e-07                 0.013911           1.097495e+06   \n",
       "YMR127C  5.499448e-07                 0.016478           1.818364e+06   \n",
       "YPL013C  2.289991e-06                 0.050159           4.366829e+05   \n",
       "YLR440C  1.186173e-06                 0.010218           8.430470e+05   \n",
       "YLR192C  4.290874e-06                 0.037184           2.330528e+05   \n",
       "\n",
       "         time_per_protein_s  synth_rate_exp_molecules_per_s  \\\n",
       "name                                                          \n",
       "YJL081C           33.269598                        0.072179   \n",
       "YMR127C           44.615385                        0.062877   \n",
       "YPL013C           15.674775                             NaN   \n",
       "YLR440C           27.729084                        0.000000   \n",
       "YLR192C            8.023014                        0.444057   \n",
       "\n",
       "         synth_rate_per_transcript_exp_molecules_per_transcript_per_s  \\\n",
       "name                                                                    \n",
       "YJL081C                                           0.076161              \n",
       "YMR127C                                           0.061032              \n",
       "YPL013C                                                NaN              \n",
       "YLR440C                                                NaN              \n",
       "YLR192C                                           0.151083              \n",
       "\n",
       "         synth_rate_exp_per_transcript_molecules_per_s  p_init_norm  tAI_norm  \\\n",
       "name                                                                            \n",
       "YJL081C                                       0.015232    -0.607014 -0.238747   \n",
       "YMR127C                                       0.061032    -0.947753 -1.140809   \n",
       "YPL013C                                            NaN     0.693630 -1.402317   \n",
       "YLR440C                                            NaN    -0.347599 -0.361391   \n",
       "YLR192C                                       0.006867     2.581058  2.094147   \n",
       "\n",
       "         ORF_length_norm  \n",
       "name                      \n",
       "YJL081C        -0.090378  \n",
       "YMR127C        -0.493253  \n",
       "YPL013C        -1.072218  \n",
       "YLR440C         0.496592  \n",
       "YLR192C        -0.688020  "
      ]
     },
     "execution_count": 174,
     "metadata": {},
     "output_type": "execute_result"
    }
   ],
   "source": [
    "data.tail()"
   ]
  },
  {
   "cell_type": "markdown",
   "metadata": {},
   "source": [
    "## 2. Univariate models"
   ]
  },
  {
   "cell_type": "markdown",
   "metadata": {},
   "source": [
    "### 2.1 Against synthetic data:"
   ]
  },
  {
   "cell_type": "code",
   "execution_count": 175,
   "metadata": {},
   "outputs": [],
   "source": [
    "results1 = smf.ols('synth_rate_per_transcript_molecules_per_transcript_per_s ~ tAI', data=data).fit()"
   ]
  },
  {
   "cell_type": "code",
   "execution_count": 176,
   "metadata": {},
   "outputs": [
    {
     "data": {
      "text/html": [
       "<table class=\"simpletable\">\n",
       "<caption>OLS Regression Results</caption>\n",
       "<tr>\n",
       "  <th>Dep. Variable:</th>    <td>synth_rate_per_transcript_molecules_per_transcript_per_s</td> <th>  R-squared:         </th>  <td>   0.568</td> \n",
       "</tr>\n",
       "<tr>\n",
       "  <th>Model:</th>                                       <td>OLS</td>                           <th>  Adj. R-squared:    </th>  <td>   0.568</td> \n",
       "</tr>\n",
       "<tr>\n",
       "  <th>Method:</th>                                 <td>Least Squares</td>                      <th>  F-statistic:       </th>  <td>   5872.</td> \n",
       "</tr>\n",
       "<tr>\n",
       "  <th>Date:</th>                                 <td>Tue, 28 Nov 2017</td>                     <th>  Prob (F-statistic):</th>   <td>  0.00</td>  \n",
       "</tr>\n",
       "<tr>\n",
       "  <th>Time:</th>                                     <td>17:51:00</td>                         <th>  Log-Likelihood:    </th>  <td>  11312.</td> \n",
       "</tr>\n",
       "<tr>\n",
       "  <th>No. Observations:</th>                          <td>  4475</td>                          <th>  AIC:               </th> <td>-2.262e+04</td>\n",
       "</tr>\n",
       "<tr>\n",
       "  <th>Df Residuals:</th>                              <td>  4473</td>                          <th>  BIC:               </th> <td>-2.261e+04</td>\n",
       "</tr>\n",
       "<tr>\n",
       "  <th>Df Model:</th>                                  <td>     1</td>                          <th>                     </th>      <td> </td>    \n",
       "</tr>\n",
       "<tr>\n",
       "  <th>Covariance Type:</th>                          <td>nonrobust</td>                        <th>                     </th>      <td> </td>    \n",
       "</tr>\n",
       "</table>\n",
       "<table class=\"simpletable\">\n",
       "<tr>\n",
       "      <td></td>         <th>coef</th>     <th>std err</th>      <th>t</th>      <th>P>|t|</th>  <th>[0.025</th>    <th>0.975]</th>  \n",
       "</tr>\n",
       "<tr>\n",
       "  <th>Intercept</th> <td>   -0.1021</td> <td>    0.002</td> <td>  -52.103</td> <td> 0.000</td> <td>   -0.106</td> <td>   -0.098</td>\n",
       "</tr>\n",
       "<tr>\n",
       "  <th>tAI</th>       <td>    0.3815</td> <td>    0.005</td> <td>   76.628</td> <td> 0.000</td> <td>    0.372</td> <td>    0.391</td>\n",
       "</tr>\n",
       "</table>\n",
       "<table class=\"simpletable\">\n",
       "<tr>\n",
       "  <th>Omnibus:</th>       <td>839.877</td> <th>  Durbin-Watson:     </th> <td>   2.044</td>\n",
       "</tr>\n",
       "<tr>\n",
       "  <th>Prob(Omnibus):</th> <td> 0.000</td>  <th>  Jarque-Bera (JB):  </th> <td>2179.503</td>\n",
       "</tr>\n",
       "<tr>\n",
       "  <th>Skew:</th>          <td> 1.018</td>  <th>  Prob(JB):          </th> <td>    0.00</td>\n",
       "</tr>\n",
       "<tr>\n",
       "  <th>Kurtosis:</th>      <td> 5.747</td>  <th>  Cond. No.          </th> <td>    19.9</td>\n",
       "</tr>\n",
       "</table>"
      ],
      "text/plain": [
       "<class 'statsmodels.iolib.summary.Summary'>\n",
       "\"\"\"\n",
       "                                               OLS Regression Results                                               \n",
       "====================================================================================================================\n",
       "Dep. Variable:     synth_rate_per_transcript_molecules_per_transcript_per_s   R-squared:                       0.568\n",
       "Model:                                                                  OLS   Adj. R-squared:                  0.568\n",
       "Method:                                                       Least Squares   F-statistic:                     5872.\n",
       "Date:                                                      Tue, 28 Nov 2017   Prob (F-statistic):               0.00\n",
       "Time:                                                              17:51:00   Log-Likelihood:                 11312.\n",
       "No. Observations:                                                      4475   AIC:                        -2.262e+04\n",
       "Df Residuals:                                                          4473   BIC:                        -2.261e+04\n",
       "Df Model:                                                                 1                                         \n",
       "Covariance Type:                                                  nonrobust                                         \n",
       "==============================================================================\n",
       "                 coef    std err          t      P>|t|      [0.025      0.975]\n",
       "------------------------------------------------------------------------------\n",
       "Intercept     -0.1021      0.002    -52.103      0.000      -0.106      -0.098\n",
       "tAI            0.3815      0.005     76.628      0.000       0.372       0.391\n",
       "==============================================================================\n",
       "Omnibus:                      839.877   Durbin-Watson:                   2.044\n",
       "Prob(Omnibus):                  0.000   Jarque-Bera (JB):             2179.503\n",
       "Skew:                           1.018   Prob(JB):                         0.00\n",
       "Kurtosis:                       5.747   Cond. No.                         19.9\n",
       "==============================================================================\n",
       "\n",
       "Warnings:\n",
       "[1] Standard Errors assume that the covariance matrix of the errors is correctly specified.\n",
       "\"\"\""
      ]
     },
     "execution_count": 176,
     "metadata": {},
     "output_type": "execute_result"
    }
   ],
   "source": [
    "results1.summary()"
   ]
  },
  {
   "cell_type": "code",
   "execution_count": 177,
   "metadata": {},
   "outputs": [
    {
     "name": "stdout",
     "output_type": "stream",
     "text": [
      "-22620.4898327\n",
      "0.567610086237\n"
     ]
    }
   ],
   "source": [
    "print results1.aic\n",
    "print results1.rsquared"
   ]
  },
  {
   "cell_type": "code",
   "execution_count": 178,
   "metadata": {},
   "outputs": [],
   "source": [
    "results2 = smf.ols('synth_rate_per_transcript_molecules_per_transcript_per_s ~ p_init', data=data).fit()"
   ]
  },
  {
   "cell_type": "code",
   "execution_count": 179,
   "metadata": {},
   "outputs": [
    {
     "data": {
      "text/html": [
       "<table class=\"simpletable\">\n",
       "<caption>OLS Regression Results</caption>\n",
       "<tr>\n",
       "  <th>Dep. Variable:</th>    <td>synth_rate_per_transcript_molecules_per_transcript_per_s</td> <th>  R-squared:         </th>  <td>   0.992</td> \n",
       "</tr>\n",
       "<tr>\n",
       "  <th>Model:</th>                                       <td>OLS</td>                           <th>  Adj. R-squared:    </th>  <td>   0.992</td> \n",
       "</tr>\n",
       "<tr>\n",
       "  <th>Method:</th>                                 <td>Least Squares</td>                      <th>  F-statistic:       </th>  <td>5.385e+05</td>\n",
       "</tr>\n",
       "<tr>\n",
       "  <th>Date:</th>                                 <td>Tue, 28 Nov 2017</td>                     <th>  Prob (F-statistic):</th>   <td>  0.00</td>  \n",
       "</tr>\n",
       "<tr>\n",
       "  <th>Time:</th>                                     <td>17:51:00</td>                         <th>  Log-Likelihood:    </th>  <td>  20174.</td> \n",
       "</tr>\n",
       "<tr>\n",
       "  <th>No. Observations:</th>                          <td>  4475</td>                          <th>  AIC:               </th> <td>-4.034e+04</td>\n",
       "</tr>\n",
       "<tr>\n",
       "  <th>Df Residuals:</th>                              <td>  4473</td>                          <th>  BIC:               </th> <td>-4.033e+04</td>\n",
       "</tr>\n",
       "<tr>\n",
       "  <th>Df Model:</th>                                  <td>     1</td>                          <th>                     </th>      <td> </td>    \n",
       "</tr>\n",
       "<tr>\n",
       "  <th>Covariance Type:</th>                          <td>nonrobust</td>                        <th>                     </th>      <td> </td>    \n",
       "</tr>\n",
       "</table>\n",
       "<table class=\"simpletable\">\n",
       "<tr>\n",
       "      <td></td>         <th>coef</th>     <th>std err</th>      <th>t</th>      <th>P>|t|</th>  <th>[0.025</th>    <th>0.975]</th>  \n",
       "</tr>\n",
       "<tr>\n",
       "  <th>Intercept</th> <td>    0.0035</td> <td> 7.08e-05</td> <td>   49.784</td> <td> 0.000</td> <td>    0.003</td> <td>    0.004</td>\n",
       "</tr>\n",
       "<tr>\n",
       "  <th>p_init</th>    <td>  2.76e+04</td> <td>   37.608</td> <td>  733.850</td> <td> 0.000</td> <td> 2.75e+04</td> <td> 2.77e+04</td>\n",
       "</tr>\n",
       "</table>\n",
       "<table class=\"simpletable\">\n",
       "<tr>\n",
       "  <th>Omnibus:</th>       <td>1272.542</td> <th>  Durbin-Watson:     </th> <td>   1.953</td> \n",
       "</tr>\n",
       "<tr>\n",
       "  <th>Prob(Omnibus):</th>  <td> 0.000</td>  <th>  Jarque-Bera (JB):  </th> <td>14339.052</td>\n",
       "</tr>\n",
       "<tr>\n",
       "  <th>Skew:</th>           <td>-1.028</td>  <th>  Prob(JB):          </th> <td>    0.00</td> \n",
       "</tr>\n",
       "<tr>\n",
       "  <th>Kurtosis:</th>       <td>11.525</td>  <th>  Cond. No.          </th> <td>9.43e+05</td> \n",
       "</tr>\n",
       "</table>"
      ],
      "text/plain": [
       "<class 'statsmodels.iolib.summary.Summary'>\n",
       "\"\"\"\n",
       "                                               OLS Regression Results                                               \n",
       "====================================================================================================================\n",
       "Dep. Variable:     synth_rate_per_transcript_molecules_per_transcript_per_s   R-squared:                       0.992\n",
       "Model:                                                                  OLS   Adj. R-squared:                  0.992\n",
       "Method:                                                       Least Squares   F-statistic:                 5.385e+05\n",
       "Date:                                                      Tue, 28 Nov 2017   Prob (F-statistic):               0.00\n",
       "Time:                                                              17:51:00   Log-Likelihood:                 20174.\n",
       "No. Observations:                                                      4475   AIC:                        -4.034e+04\n",
       "Df Residuals:                                                          4473   BIC:                        -4.033e+04\n",
       "Df Model:                                                                 1                                         \n",
       "Covariance Type:                                                  nonrobust                                         \n",
       "==============================================================================\n",
       "                 coef    std err          t      P>|t|      [0.025      0.975]\n",
       "------------------------------------------------------------------------------\n",
       "Intercept      0.0035   7.08e-05     49.784      0.000       0.003       0.004\n",
       "p_init       2.76e+04     37.608    733.850      0.000    2.75e+04    2.77e+04\n",
       "==============================================================================\n",
       "Omnibus:                     1272.542   Durbin-Watson:                   1.953\n",
       "Prob(Omnibus):                  0.000   Jarque-Bera (JB):            14339.052\n",
       "Skew:                          -1.028   Prob(JB):                         0.00\n",
       "Kurtosis:                      11.525   Cond. No.                     9.43e+05\n",
       "==============================================================================\n",
       "\n",
       "Warnings:\n",
       "[1] Standard Errors assume that the covariance matrix of the errors is correctly specified.\n",
       "[2] The condition number is large, 9.43e+05. This might indicate that there are\n",
       "strong multicollinearity or other numerical problems.\n",
       "\"\"\""
      ]
     },
     "execution_count": 179,
     "metadata": {},
     "output_type": "execute_result"
    }
   ],
   "source": [
    "results2.summary()"
   ]
  },
  {
   "cell_type": "code",
   "execution_count": 180,
   "metadata": {},
   "outputs": [
    {
     "name": "stdout",
     "output_type": "stream",
     "text": [
      "-40344.3475464\n",
      "0.991762563723\n"
     ]
    }
   ],
   "source": [
    "print results2.aic\n",
    "print results2.rsquared"
   ]
  },
  {
   "cell_type": "markdown",
   "metadata": {},
   "source": [
    "Better than model 1!"
   ]
  },
  {
   "cell_type": "code",
   "execution_count": 181,
   "metadata": {},
   "outputs": [],
   "source": [
    "results3 = smf.ols('synth_rate_per_transcript_molecules_per_transcript_per_s ~ p_init - 1', data=data).fit()"
   ]
  },
  {
   "cell_type": "code",
   "execution_count": 182,
   "metadata": {},
   "outputs": [
    {
     "data": {
      "text/html": [
       "<table class=\"simpletable\">\n",
       "<caption>OLS Regression Results</caption>\n",
       "<tr>\n",
       "  <th>Dep. Variable:</th>    <td>synth_rate_per_transcript_molecules_per_transcript_per_s</td> <th>  R-squared:         </th>  <td>   0.996</td> \n",
       "</tr>\n",
       "<tr>\n",
       "  <th>Model:</th>                                       <td>OLS</td>                           <th>  Adj. R-squared:    </th>  <td>   0.996</td> \n",
       "</tr>\n",
       "<tr>\n",
       "  <th>Method:</th>                                 <td>Least Squares</td>                      <th>  F-statistic:       </th>  <td>1.218e+06</td>\n",
       "</tr>\n",
       "<tr>\n",
       "  <th>Date:</th>                                 <td>Tue, 28 Nov 2017</td>                     <th>  Prob (F-statistic):</th>   <td>  0.00</td>  \n",
       "</tr>\n",
       "<tr>\n",
       "  <th>Time:</th>                                     <td>17:51:00</td>                         <th>  Log-Likelihood:    </th>  <td>  19188.</td> \n",
       "</tr>\n",
       "<tr>\n",
       "  <th>No. Observations:</th>                          <td>  4475</td>                          <th>  AIC:               </th> <td>-3.837e+04</td>\n",
       "</tr>\n",
       "<tr>\n",
       "  <th>Df Residuals:</th>                              <td>  4474</td>                          <th>  BIC:               </th> <td>-3.837e+04</td>\n",
       "</tr>\n",
       "<tr>\n",
       "  <th>Df Model:</th>                                  <td>     1</td>                          <th>                     </th>      <td> </td>    \n",
       "</tr>\n",
       "<tr>\n",
       "  <th>Covariance Type:</th>                          <td>nonrobust</td>                        <th>                     </th>      <td> </td>    \n",
       "</tr>\n",
       "</table>\n",
       "<table class=\"simpletable\">\n",
       "<tr>\n",
       "     <td></td>       <th>coef</th>     <th>std err</th>      <th>t</th>      <th>P>|t|</th>  <th>[0.025</th>    <th>0.975]</th>  \n",
       "</tr>\n",
       "<tr>\n",
       "  <th>p_init</th> <td> 2.915e+04</td> <td>   26.408</td> <td> 1103.663</td> <td> 0.000</td> <td> 2.91e+04</td> <td> 2.92e+04</td>\n",
       "</tr>\n",
       "</table>\n",
       "<table class=\"simpletable\">\n",
       "<tr>\n",
       "  <th>Omnibus:</th>       <td>3040.270</td> <th>  Durbin-Watson:     </th> <td>   1.707</td> \n",
       "</tr>\n",
       "<tr>\n",
       "  <th>Prob(Omnibus):</th>  <td> 0.000</td>  <th>  Jarque-Bera (JB):  </th> <td>95442.030</td>\n",
       "</tr>\n",
       "<tr>\n",
       "  <th>Skew:</th>           <td>-2.801</td>  <th>  Prob(JB):          </th> <td>    0.00</td> \n",
       "</tr>\n",
       "<tr>\n",
       "  <th>Kurtosis:</th>       <td>24.920</td>  <th>  Cond. No.          </th> <td>    1.00</td> \n",
       "</tr>\n",
       "</table>"
      ],
      "text/plain": [
       "<class 'statsmodels.iolib.summary.Summary'>\n",
       "\"\"\"\n",
       "                                               OLS Regression Results                                               \n",
       "====================================================================================================================\n",
       "Dep. Variable:     synth_rate_per_transcript_molecules_per_transcript_per_s   R-squared:                       0.996\n",
       "Model:                                                                  OLS   Adj. R-squared:                  0.996\n",
       "Method:                                                       Least Squares   F-statistic:                 1.218e+06\n",
       "Date:                                                      Tue, 28 Nov 2017   Prob (F-statistic):               0.00\n",
       "Time:                                                              17:51:00   Log-Likelihood:                 19188.\n",
       "No. Observations:                                                      4475   AIC:                        -3.837e+04\n",
       "Df Residuals:                                                          4474   BIC:                        -3.837e+04\n",
       "Df Model:                                                                 1                                         \n",
       "Covariance Type:                                                  nonrobust                                         \n",
       "==============================================================================\n",
       "                 coef    std err          t      P>|t|      [0.025      0.975]\n",
       "------------------------------------------------------------------------------\n",
       "p_init      2.915e+04     26.408   1103.663      0.000    2.91e+04    2.92e+04\n",
       "==============================================================================\n",
       "Omnibus:                     3040.270   Durbin-Watson:                   1.707\n",
       "Prob(Omnibus):                  0.000   Jarque-Bera (JB):            95442.030\n",
       "Skew:                          -2.801   Prob(JB):                         0.00\n",
       "Kurtosis:                      24.920   Cond. No.                         1.00\n",
       "==============================================================================\n",
       "\n",
       "Warnings:\n",
       "[1] Standard Errors assume that the covariance matrix of the errors is correctly specified.\n",
       "\"\"\""
      ]
     },
     "execution_count": 182,
     "metadata": {},
     "output_type": "execute_result"
    }
   ],
   "source": [
    "results3.summary()"
   ]
  },
  {
   "cell_type": "code",
   "execution_count": 183,
   "metadata": {},
   "outputs": [
    {
     "name": "stdout",
     "output_type": "stream",
     "text": [
      "-38373.3597877\n",
      "0.996340427211\n"
     ]
    }
   ],
   "source": [
    "print results3.aic\n",
    "print results3.rsquared"
   ]
  },
  {
   "cell_type": "markdown",
   "metadata": {},
   "source": [
    "Model 2 still the best!"
   ]
  },
  {
   "cell_type": "markdown",
   "metadata": {},
   "source": [
    "### 2.2 Against \"measured\" data  (synthesis rate)"
   ]
  },
  {
   "cell_type": "code",
   "execution_count": 184,
   "metadata": {},
   "outputs": [],
   "source": [
    "results7 = smf.ols('synth_rate_exp_molecules_per_s ~ tAI', data=data).fit()"
   ]
  },
  {
   "cell_type": "code",
   "execution_count": 185,
   "metadata": {},
   "outputs": [
    {
     "data": {
      "text/html": [
       "<table class=\"simpletable\">\n",
       "<caption>OLS Regression Results</caption>\n",
       "<tr>\n",
       "  <th>Dep. Variable:</th>    <td>synth_rate_exp_molecules_per_s</td> <th>  R-squared:         </th> <td>   0.293</td> \n",
       "</tr>\n",
       "<tr>\n",
       "  <th>Model:</th>                          <td>OLS</td>              <th>  Adj. R-squared:    </th> <td>   0.293</td> \n",
       "</tr>\n",
       "<tr>\n",
       "  <th>Method:</th>                    <td>Least Squares</td>         <th>  F-statistic:       </th> <td>   1750.</td> \n",
       "</tr>\n",
       "<tr>\n",
       "  <th>Date:</th>                    <td>Tue, 28 Nov 2017</td>        <th>  Prob (F-statistic):</th> <td>2.36e-320</td>\n",
       "</tr>\n",
       "<tr>\n",
       "  <th>Time:</th>                        <td>17:51:00</td>            <th>  Log-Likelihood:    </th> <td> -4529.3</td> \n",
       "</tr>\n",
       "<tr>\n",
       "  <th>No. Observations:</th>             <td>  4228</td>             <th>  AIC:               </th> <td>   9063.</td> \n",
       "</tr>\n",
       "<tr>\n",
       "  <th>Df Residuals:</th>                 <td>  4226</td>             <th>  BIC:               </th> <td>   9075.</td> \n",
       "</tr>\n",
       "<tr>\n",
       "  <th>Df Model:</th>                     <td>     1</td>             <th>                     </th>     <td> </td>    \n",
       "</tr>\n",
       "<tr>\n",
       "  <th>Covariance Type:</th>             <td>nonrobust</td>           <th>                     </th>     <td> </td>    \n",
       "</tr>\n",
       "</table>\n",
       "<table class=\"simpletable\">\n",
       "<tr>\n",
       "      <td></td>         <th>coef</th>     <th>std err</th>      <th>t</th>      <th>P>|t|</th>  <th>[0.025</th>    <th>0.975]</th>  \n",
       "</tr>\n",
       "<tr>\n",
       "  <th>Intercept</th> <td>   -2.7932</td> <td>    0.074</td> <td>  -37.794</td> <td> 0.000</td> <td>   -2.938</td> <td>   -2.648</td>\n",
       "</tr>\n",
       "<tr>\n",
       "  <th>tAI</th>       <td>    7.8480</td> <td>    0.188</td> <td>   41.834</td> <td> 0.000</td> <td>    7.480</td> <td>    8.216</td>\n",
       "</tr>\n",
       "</table>\n",
       "<table class=\"simpletable\">\n",
       "<tr>\n",
       "  <th>Omnibus:</th>       <td>8129.101</td> <th>  Durbin-Watson:     </th>   <td>   2.021</td>  \n",
       "</tr>\n",
       "<tr>\n",
       "  <th>Prob(Omnibus):</th>  <td> 0.000</td>  <th>  Jarque-Bera (JB):  </th> <td>20339151.589</td>\n",
       "</tr>\n",
       "<tr>\n",
       "  <th>Skew:</th>           <td>14.751</td>  <th>  Prob(JB):          </th>   <td>    0.00</td>  \n",
       "</tr>\n",
       "<tr>\n",
       "  <th>Kurtosis:</th>       <td>341.502</td> <th>  Cond. No.          </th>   <td>    19.9</td>  \n",
       "</tr>\n",
       "</table>"
      ],
      "text/plain": [
       "<class 'statsmodels.iolib.summary.Summary'>\n",
       "\"\"\"\n",
       "                                  OLS Regression Results                                  \n",
       "==========================================================================================\n",
       "Dep. Variable:     synth_rate_exp_molecules_per_s   R-squared:                       0.293\n",
       "Model:                                        OLS   Adj. R-squared:                  0.293\n",
       "Method:                             Least Squares   F-statistic:                     1750.\n",
       "Date:                            Tue, 28 Nov 2017   Prob (F-statistic):          2.36e-320\n",
       "Time:                                    17:51:00   Log-Likelihood:                -4529.3\n",
       "No. Observations:                            4228   AIC:                             9063.\n",
       "Df Residuals:                                4226   BIC:                             9075.\n",
       "Df Model:                                       1                                         \n",
       "Covariance Type:                        nonrobust                                         \n",
       "==============================================================================\n",
       "                 coef    std err          t      P>|t|      [0.025      0.975]\n",
       "------------------------------------------------------------------------------\n",
       "Intercept     -2.7932      0.074    -37.794      0.000      -2.938      -2.648\n",
       "tAI            7.8480      0.188     41.834      0.000       7.480       8.216\n",
       "==============================================================================\n",
       "Omnibus:                     8129.101   Durbin-Watson:                   2.021\n",
       "Prob(Omnibus):                  0.000   Jarque-Bera (JB):         20339151.589\n",
       "Skew:                          14.751   Prob(JB):                         0.00\n",
       "Kurtosis:                     341.502   Cond. No.                         19.9\n",
       "==============================================================================\n",
       "\n",
       "Warnings:\n",
       "[1] Standard Errors assume that the covariance matrix of the errors is correctly specified.\n",
       "\"\"\""
      ]
     },
     "execution_count": 185,
     "metadata": {},
     "output_type": "execute_result"
    }
   ],
   "source": [
    "results7.summary()"
   ]
  },
  {
   "cell_type": "code",
   "execution_count": 186,
   "metadata": {},
   "outputs": [
    {
     "name": "stdout",
     "output_type": "stream",
     "text": [
      "9062.5953083\n",
      "0.29285090154\n"
     ]
    }
   ],
   "source": [
    "print results7.aic\n",
    "print results7.rsquared"
   ]
  },
  {
   "cell_type": "code",
   "execution_count": 187,
   "metadata": {},
   "outputs": [],
   "source": [
    "results9 = smf.ols('synth_rate_exp_molecules_per_s ~ p_init', data=data).fit()"
   ]
  },
  {
   "cell_type": "code",
   "execution_count": 188,
   "metadata": {},
   "outputs": [
    {
     "data": {
      "text/html": [
       "<table class=\"simpletable\">\n",
       "<caption>OLS Regression Results</caption>\n",
       "<tr>\n",
       "  <th>Dep. Variable:</th>    <td>synth_rate_exp_molecules_per_s</td> <th>  R-squared:         </th> <td>   0.271</td> \n",
       "</tr>\n",
       "<tr>\n",
       "  <th>Model:</th>                          <td>OLS</td>              <th>  Adj. R-squared:    </th> <td>   0.271</td> \n",
       "</tr>\n",
       "<tr>\n",
       "  <th>Method:</th>                    <td>Least Squares</td>         <th>  F-statistic:       </th> <td>   1571.</td> \n",
       "</tr>\n",
       "<tr>\n",
       "  <th>Date:</th>                    <td>Tue, 28 Nov 2017</td>        <th>  Prob (F-statistic):</th> <td>1.87e-292</td>\n",
       "</tr>\n",
       "<tr>\n",
       "  <th>Time:</th>                        <td>17:51:00</td>            <th>  Log-Likelihood:    </th> <td> -4593.5</td> \n",
       "</tr>\n",
       "<tr>\n",
       "  <th>No. Observations:</th>             <td>  4228</td>             <th>  AIC:               </th> <td>   9191.</td> \n",
       "</tr>\n",
       "<tr>\n",
       "  <th>Df Residuals:</th>                 <td>  4226</td>             <th>  BIC:               </th> <td>   9204.</td> \n",
       "</tr>\n",
       "<tr>\n",
       "  <th>Df Model:</th>                     <td>     1</td>             <th>                     </th>     <td> </td>    \n",
       "</tr>\n",
       "<tr>\n",
       "  <th>Covariance Type:</th>             <td>nonrobust</td>           <th>                     </th>     <td> </td>    \n",
       "</tr>\n",
       "</table>\n",
       "<table class=\"simpletable\">\n",
       "<tr>\n",
       "      <td></td>         <th>coef</th>     <th>std err</th>      <th>t</th>      <th>P>|t|</th>  <th>[0.025</th>    <th>0.975]</th>  \n",
       "</tr>\n",
       "<tr>\n",
       "  <th>Intercept</th> <td>   -0.3780</td> <td>    0.020</td> <td>  -19.268</td> <td> 0.000</td> <td>   -0.416</td> <td>   -0.339</td>\n",
       "</tr>\n",
       "<tr>\n",
       "  <th>p_init</th>    <td>  4.12e+05</td> <td> 1.04e+04</td> <td>   39.639</td> <td> 0.000</td> <td> 3.92e+05</td> <td> 4.32e+05</td>\n",
       "</tr>\n",
       "</table>\n",
       "<table class=\"simpletable\">\n",
       "<tr>\n",
       "  <th>Omnibus:</th>       <td>8319.972</td> <th>  Durbin-Watson:     </th>   <td>   2.013</td>  \n",
       "</tr>\n",
       "<tr>\n",
       "  <th>Prob(Omnibus):</th>  <td> 0.000</td>  <th>  Jarque-Bera (JB):  </th> <td>23108556.380</td>\n",
       "</tr>\n",
       "<tr>\n",
       "  <th>Skew:</th>           <td>15.525</td>  <th>  Prob(JB):          </th>   <td>    0.00</td>  \n",
       "</tr>\n",
       "<tr>\n",
       "  <th>Kurtosis:</th>       <td>363.847</td> <th>  Cond. No.          </th>   <td>9.42e+05</td>  \n",
       "</tr>\n",
       "</table>"
      ],
      "text/plain": [
       "<class 'statsmodels.iolib.summary.Summary'>\n",
       "\"\"\"\n",
       "                                  OLS Regression Results                                  \n",
       "==========================================================================================\n",
       "Dep. Variable:     synth_rate_exp_molecules_per_s   R-squared:                       0.271\n",
       "Model:                                        OLS   Adj. R-squared:                  0.271\n",
       "Method:                             Least Squares   F-statistic:                     1571.\n",
       "Date:                            Tue, 28 Nov 2017   Prob (F-statistic):          1.87e-292\n",
       "Time:                                    17:51:00   Log-Likelihood:                -4593.5\n",
       "No. Observations:                            4228   AIC:                             9191.\n",
       "Df Residuals:                                4226   BIC:                             9204.\n",
       "Df Model:                                       1                                         \n",
       "Covariance Type:                        nonrobust                                         \n",
       "==============================================================================\n",
       "                 coef    std err          t      P>|t|      [0.025      0.975]\n",
       "------------------------------------------------------------------------------\n",
       "Intercept     -0.3780      0.020    -19.268      0.000      -0.416      -0.339\n",
       "p_init       4.12e+05   1.04e+04     39.639      0.000    3.92e+05    4.32e+05\n",
       "==============================================================================\n",
       "Omnibus:                     8319.972   Durbin-Watson:                   2.013\n",
       "Prob(Omnibus):                  0.000   Jarque-Bera (JB):         23108556.380\n",
       "Skew:                          15.525   Prob(JB):                         0.00\n",
       "Kurtosis:                     363.847   Cond. No.                     9.42e+05\n",
       "==============================================================================\n",
       "\n",
       "Warnings:\n",
       "[1] Standard Errors assume that the covariance matrix of the errors is correctly specified.\n",
       "[2] The condition number is large, 9.42e+05. This might indicate that there are\n",
       "strong multicollinearity or other numerical problems.\n",
       "\"\"\""
      ]
     },
     "execution_count": 188,
     "metadata": {},
     "output_type": "execute_result"
    }
   ],
   "source": [
    "results9.summary()"
   ]
  },
  {
   "cell_type": "code",
   "execution_count": 189,
   "metadata": {},
   "outputs": [
    {
     "name": "stdout",
     "output_type": "stream",
     "text": [
      "9191.05830315\n",
      "0.271035232602\n"
     ]
    }
   ],
   "source": [
    "print results9.aic\n",
    "print results9.rsquared"
   ]
  },
  {
   "cell_type": "markdown",
   "metadata": {},
   "source": [
    "Better than tAI model."
   ]
  },
  {
   "cell_type": "markdown",
   "metadata": {},
   "source": [
    "### 2.3 Against \"measured\" data  (synthesis rate per transcript)"
   ]
  },
  {
   "cell_type": "code",
   "execution_count": 190,
   "metadata": {},
   "outputs": [],
   "source": [
    "results8 = smf.ols('synth_rate_exp_per_transcript_molecules_per_s ~ tAI', data=data).fit()"
   ]
  },
  {
   "cell_type": "code",
   "execution_count": 191,
   "metadata": {},
   "outputs": [
    {
     "data": {
      "text/html": [
       "<table class=\"simpletable\">\n",
       "<caption>OLS Regression Results</caption>\n",
       "<tr>\n",
       "  <th>Dep. Variable:</th>    <td>synth_rate_exp_per_transcript_molecules_per_s</td> <th>  R-squared:         </th>  <td>   0.105</td> \n",
       "</tr>\n",
       "<tr>\n",
       "  <th>Model:</th>                                 <td>OLS</td>                      <th>  Adj. R-squared:    </th>  <td>   0.104</td> \n",
       "</tr>\n",
       "<tr>\n",
       "  <th>Method:</th>                           <td>Least Squares</td>                 <th>  F-statistic:       </th>  <td>   488.9</td> \n",
       "</tr>\n",
       "<tr>\n",
       "  <th>Date:</th>                           <td>Tue, 28 Nov 2017</td>                <th>  Prob (F-statistic):</th>  <td>1.50e-102</td>\n",
       "</tr>\n",
       "<tr>\n",
       "  <th>Time:</th>                               <td>17:51:00</td>                    <th>  Log-Likelihood:    </th>  <td>  8287.6</td> \n",
       "</tr>\n",
       "<tr>\n",
       "  <th>No. Observations:</th>                    <td>  4188</td>                     <th>  AIC:               </th> <td>-1.657e+04</td>\n",
       "</tr>\n",
       "<tr>\n",
       "  <th>Df Residuals:</th>                        <td>  4186</td>                     <th>  BIC:               </th> <td>-1.656e+04</td>\n",
       "</tr>\n",
       "<tr>\n",
       "  <th>Df Model:</th>                            <td>     1</td>                     <th>                     </th>      <td> </td>    \n",
       "</tr>\n",
       "<tr>\n",
       "  <th>Covariance Type:</th>                    <td>nonrobust</td>                   <th>                     </th>      <td> </td>    \n",
       "</tr>\n",
       "</table>\n",
       "<table class=\"simpletable\">\n",
       "<tr>\n",
       "      <td></td>         <th>coef</th>     <th>std err</th>      <th>t</th>      <th>P>|t|</th>  <th>[0.025</th>    <th>0.975]</th>  \n",
       "</tr>\n",
       "<tr>\n",
       "  <th>Intercept</th> <td>    0.1083</td> <td>    0.004</td> <td>   30.703</td> <td> 0.000</td> <td>    0.101</td> <td>    0.115</td>\n",
       "</tr>\n",
       "<tr>\n",
       "  <th>tAI</th>       <td>   -0.1979</td> <td>    0.009</td> <td>  -22.111</td> <td> 0.000</td> <td>   -0.215</td> <td>   -0.180</td>\n",
       "</tr>\n",
       "</table>\n",
       "<table class=\"simpletable\">\n",
       "<tr>\n",
       "  <th>Omnibus:</th>       <td>3077.611</td> <th>  Durbin-Watson:     </th> <td>   2.012</td> \n",
       "</tr>\n",
       "<tr>\n",
       "  <th>Prob(Omnibus):</th>  <td> 0.000</td>  <th>  Jarque-Bera (JB):  </th> <td>75594.743</td>\n",
       "</tr>\n",
       "<tr>\n",
       "  <th>Skew:</th>           <td> 3.255</td>  <th>  Prob(JB):          </th> <td>    0.00</td> \n",
       "</tr>\n",
       "<tr>\n",
       "  <th>Kurtosis:</th>       <td>22.769</td>  <th>  Cond. No.          </th> <td>    20.0</td> \n",
       "</tr>\n",
       "</table>"
      ],
      "text/plain": [
       "<class 'statsmodels.iolib.summary.Summary'>\n",
       "\"\"\"\n",
       "                                          OLS Regression Results                                         \n",
       "=========================================================================================================\n",
       "Dep. Variable:     synth_rate_exp_per_transcript_molecules_per_s   R-squared:                       0.105\n",
       "Model:                                                       OLS   Adj. R-squared:                  0.104\n",
       "Method:                                            Least Squares   F-statistic:                     488.9\n",
       "Date:                                           Tue, 28 Nov 2017   Prob (F-statistic):          1.50e-102\n",
       "Time:                                                   17:51:00   Log-Likelihood:                 8287.6\n",
       "No. Observations:                                           4188   AIC:                        -1.657e+04\n",
       "Df Residuals:                                               4186   BIC:                        -1.656e+04\n",
       "Df Model:                                                      1                                         \n",
       "Covariance Type:                                       nonrobust                                         \n",
       "==============================================================================\n",
       "                 coef    std err          t      P>|t|      [0.025      0.975]\n",
       "------------------------------------------------------------------------------\n",
       "Intercept      0.1083      0.004     30.703      0.000       0.101       0.115\n",
       "tAI           -0.1979      0.009    -22.111      0.000      -0.215      -0.180\n",
       "==============================================================================\n",
       "Omnibus:                     3077.611   Durbin-Watson:                   2.012\n",
       "Prob(Omnibus):                  0.000   Jarque-Bera (JB):            75594.743\n",
       "Skew:                           3.255   Prob(JB):                         0.00\n",
       "Kurtosis:                      22.769   Cond. No.                         20.0\n",
       "==============================================================================\n",
       "\n",
       "Warnings:\n",
       "[1] Standard Errors assume that the covariance matrix of the errors is correctly specified.\n",
       "\"\"\""
      ]
     },
     "execution_count": 191,
     "metadata": {},
     "output_type": "execute_result"
    }
   ],
   "source": [
    "results8.summary()"
   ]
  },
  {
   "cell_type": "code",
   "execution_count": 192,
   "metadata": {},
   "outputs": [
    {
     "name": "stdout",
     "output_type": "stream",
     "text": [
      "-16571.1301313\n",
      "0.104577771419\n"
     ]
    }
   ],
   "source": [
    "print results8.aic\n",
    "print results8.rsquared"
   ]
  },
  {
   "cell_type": "code",
   "execution_count": 193,
   "metadata": {},
   "outputs": [],
   "source": [
    "results10 = smf.ols('synth_rate_exp_per_transcript_molecules_per_s ~ p_init', data=data).fit()"
   ]
  },
  {
   "cell_type": "code",
   "execution_count": 194,
   "metadata": {},
   "outputs": [
    {
     "data": {
      "text/html": [
       "<table class=\"simpletable\">\n",
       "<caption>OLS Regression Results</caption>\n",
       "<tr>\n",
       "  <th>Dep. Variable:</th>    <td>synth_rate_exp_per_transcript_molecules_per_s</td> <th>  R-squared:         </th>  <td>   0.002</td> \n",
       "</tr>\n",
       "<tr>\n",
       "  <th>Model:</th>                                 <td>OLS</td>                      <th>  Adj. R-squared:    </th>  <td>   0.002</td> \n",
       "</tr>\n",
       "<tr>\n",
       "  <th>Method:</th>                           <td>Least Squares</td>                 <th>  F-statistic:       </th>  <td>   8.019</td> \n",
       "</tr>\n",
       "<tr>\n",
       "  <th>Date:</th>                           <td>Tue, 28 Nov 2017</td>                <th>  Prob (F-statistic):</th>   <td>0.00465</td> \n",
       "</tr>\n",
       "<tr>\n",
       "  <th>Time:</th>                               <td>17:51:00</td>                    <th>  Log-Likelihood:    </th>  <td>  8060.3</td> \n",
       "</tr>\n",
       "<tr>\n",
       "  <th>No. Observations:</th>                    <td>  4188</td>                     <th>  AIC:               </th> <td>-1.612e+04</td>\n",
       "</tr>\n",
       "<tr>\n",
       "  <th>Df Residuals:</th>                        <td>  4186</td>                     <th>  BIC:               </th> <td>-1.610e+04</td>\n",
       "</tr>\n",
       "<tr>\n",
       "  <th>Df Model:</th>                            <td>     1</td>                     <th>                     </th>      <td> </td>    \n",
       "</tr>\n",
       "<tr>\n",
       "  <th>Covariance Type:</th>                    <td>nonrobust</td>                   <th>                     </th>      <td> </td>    \n",
       "</tr>\n",
       "</table>\n",
       "<table class=\"simpletable\">\n",
       "<tr>\n",
       "      <td></td>         <th>coef</th>     <th>std err</th>      <th>t</th>      <th>P>|t|</th>  <th>[0.025</th>    <th>0.975]</th>  \n",
       "</tr>\n",
       "<tr>\n",
       "  <th>Intercept</th> <td>    0.0334</td> <td>    0.001</td> <td>   34.406</td> <td> 0.000</td> <td>    0.032</td> <td>    0.035</td>\n",
       "</tr>\n",
       "<tr>\n",
       "  <th>p_init</th>    <td>-1459.5655</td> <td>  515.428</td> <td>   -2.832</td> <td> 0.005</td> <td>-2470.078</td> <td> -449.053</td>\n",
       "</tr>\n",
       "</table>\n",
       "<table class=\"simpletable\">\n",
       "<tr>\n",
       "  <th>Omnibus:</th>       <td>2992.526</td> <th>  Durbin-Watson:     </th> <td>   2.003</td> \n",
       "</tr>\n",
       "<tr>\n",
       "  <th>Prob(Omnibus):</th>  <td> 0.000</td>  <th>  Jarque-Bera (JB):  </th> <td>63901.940</td>\n",
       "</tr>\n",
       "<tr>\n",
       "  <th>Skew:</th>           <td> 3.176</td>  <th>  Prob(JB):          </th> <td>    0.00</td> \n",
       "</tr>\n",
       "<tr>\n",
       "  <th>Kurtosis:</th>       <td>21.051</td>  <th>  Cond. No.          </th> <td>9.44e+05</td> \n",
       "</tr>\n",
       "</table>"
      ],
      "text/plain": [
       "<class 'statsmodels.iolib.summary.Summary'>\n",
       "\"\"\"\n",
       "                                          OLS Regression Results                                         \n",
       "=========================================================================================================\n",
       "Dep. Variable:     synth_rate_exp_per_transcript_molecules_per_s   R-squared:                       0.002\n",
       "Model:                                                       OLS   Adj. R-squared:                  0.002\n",
       "Method:                                            Least Squares   F-statistic:                     8.019\n",
       "Date:                                           Tue, 28 Nov 2017   Prob (F-statistic):            0.00465\n",
       "Time:                                                   17:51:00   Log-Likelihood:                 8060.3\n",
       "No. Observations:                                           4188   AIC:                        -1.612e+04\n",
       "Df Residuals:                                               4186   BIC:                        -1.610e+04\n",
       "Df Model:                                                      1                                         \n",
       "Covariance Type:                                       nonrobust                                         \n",
       "==============================================================================\n",
       "                 coef    std err          t      P>|t|      [0.025      0.975]\n",
       "------------------------------------------------------------------------------\n",
       "Intercept      0.0334      0.001     34.406      0.000       0.032       0.035\n",
       "p_init     -1459.5655    515.428     -2.832      0.005   -2470.078    -449.053\n",
       "==============================================================================\n",
       "Omnibus:                     2992.526   Durbin-Watson:                   2.003\n",
       "Prob(Omnibus):                  0.000   Jarque-Bera (JB):            63901.940\n",
       "Skew:                           3.176   Prob(JB):                         0.00\n",
       "Kurtosis:                      21.051   Cond. No.                     9.44e+05\n",
       "==============================================================================\n",
       "\n",
       "Warnings:\n",
       "[1] Standard Errors assume that the covariance matrix of the errors is correctly specified.\n",
       "[2] The condition number is large, 9.44e+05. This might indicate that there are\n",
       "strong multicollinearity or other numerical problems.\n",
       "\"\"\""
      ]
     },
     "execution_count": 194,
     "metadata": {},
     "output_type": "execute_result"
    }
   ],
   "source": [
    "results10.summary()"
   ]
  },
  {
   "cell_type": "code",
   "execution_count": 195,
   "metadata": {},
   "outputs": [
    {
     "name": "stdout",
     "output_type": "stream",
     "text": [
      "-16116.5390183\n",
      "0.00191196699939\n"
     ]
    }
   ],
   "source": [
    "print results10.aic\n",
    "print results10.rsquared"
   ]
  },
  {
   "cell_type": "markdown",
   "metadata": {},
   "source": [
    "## 3. Bivariate models"
   ]
  },
  {
   "cell_type": "markdown",
   "metadata": {},
   "source": [
    "### 3.1 Against synthetic data"
   ]
  },
  {
   "cell_type": "code",
   "execution_count": 196,
   "metadata": {},
   "outputs": [],
   "source": [
    "results4 = smf.ols('synth_rate_per_transcript_molecules_per_transcript_per_s ~ p_init_norm + tAI_norm', \n",
    "                   data=data).fit()"
   ]
  },
  {
   "cell_type": "code",
   "execution_count": 197,
   "metadata": {},
   "outputs": [
    {
     "data": {
      "text/html": [
       "<table class=\"simpletable\">\n",
       "<caption>OLS Regression Results</caption>\n",
       "<tr>\n",
       "  <th>Dep. Variable:</th>    <td>synth_rate_per_transcript_molecules_per_transcript_per_s</td> <th>  R-squared:         </th>  <td>   0.992</td> \n",
       "</tr>\n",
       "<tr>\n",
       "  <th>Model:</th>                                       <td>OLS</td>                           <th>  Adj. R-squared:    </th>  <td>   0.992</td> \n",
       "</tr>\n",
       "<tr>\n",
       "  <th>Method:</th>                                 <td>Least Squares</td>                      <th>  F-statistic:       </th>  <td>2.765e+05</td>\n",
       "</tr>\n",
       "<tr>\n",
       "  <th>Date:</th>                                 <td>Tue, 28 Nov 2017</td>                     <th>  Prob (F-statistic):</th>   <td>  0.00</td>  \n",
       "</tr>\n",
       "<tr>\n",
       "  <th>Time:</th>                                     <td>17:51:01</td>                         <th>  Log-Likelihood:    </th>  <td>  20233.</td> \n",
       "</tr>\n",
       "<tr>\n",
       "  <th>No. Observations:</th>                          <td>  4475</td>                          <th>  AIC:               </th> <td>-4.046e+04</td>\n",
       "</tr>\n",
       "<tr>\n",
       "  <th>Df Residuals:</th>                              <td>  4472</td>                          <th>  BIC:               </th> <td>-4.044e+04</td>\n",
       "</tr>\n",
       "<tr>\n",
       "  <th>Df Model:</th>                                  <td>     2</td>                          <th>                     </th>      <td> </td>    \n",
       "</tr>\n",
       "<tr>\n",
       "  <th>Covariance Type:</th>                          <td>nonrobust</td>                        <th>                     </th>      <td> </td>    \n",
       "</tr>\n",
       "</table>\n",
       "<table class=\"simpletable\">\n",
       "<tr>\n",
       "       <td></td>          <th>coef</th>     <th>std err</th>      <th>t</th>      <th>P>|t|</th>  <th>[0.025</th>    <th>0.975]</th>  \n",
       "</tr>\n",
       "<tr>\n",
       "  <th>Intercept</th>   <td>    0.0464</td> <td> 3.93e-05</td> <td> 1180.000</td> <td> 0.000</td> <td>    0.046</td> <td>    0.047</td>\n",
       "</tr>\n",
       "<tr>\n",
       "  <th>p_init_norm</th> <td>    0.0288</td> <td> 5.92e-05</td> <td>  486.344</td> <td> 0.000</td> <td>    0.029</td> <td>    0.029</td>\n",
       "</tr>\n",
       "<tr>\n",
       "  <th>tAI_norm</th>    <td>    0.0006</td> <td> 5.92e-05</td> <td>   10.924</td> <td> 0.000</td> <td>    0.001</td> <td>    0.001</td>\n",
       "</tr>\n",
       "</table>\n",
       "<table class=\"simpletable\">\n",
       "<tr>\n",
       "  <th>Omnibus:</th>       <td>1000.330</td> <th>  Durbin-Watson:     </th> <td>   1.953</td>\n",
       "</tr>\n",
       "<tr>\n",
       "  <th>Prob(Omnibus):</th>  <td> 0.000</td>  <th>  Jarque-Bera (JB):  </th> <td>9693.802</td>\n",
       "</tr>\n",
       "<tr>\n",
       "  <th>Skew:</th>           <td>-0.785</td>  <th>  Prob(JB):          </th> <td>    0.00</td>\n",
       "</tr>\n",
       "<tr>\n",
       "  <th>Kurtosis:</th>       <td>10.037</td>  <th>  Cond. No.          </th> <td>    2.63</td>\n",
       "</tr>\n",
       "</table>"
      ],
      "text/plain": [
       "<class 'statsmodels.iolib.summary.Summary'>\n",
       "\"\"\"\n",
       "                                               OLS Regression Results                                               \n",
       "====================================================================================================================\n",
       "Dep. Variable:     synth_rate_per_transcript_molecules_per_transcript_per_s   R-squared:                       0.992\n",
       "Model:                                                                  OLS   Adj. R-squared:                  0.992\n",
       "Method:                                                       Least Squares   F-statistic:                 2.765e+05\n",
       "Date:                                                      Tue, 28 Nov 2017   Prob (F-statistic):               0.00\n",
       "Time:                                                              17:51:01   Log-Likelihood:                 20233.\n",
       "No. Observations:                                                      4475   AIC:                        -4.046e+04\n",
       "Df Residuals:                                                          4472   BIC:                        -4.044e+04\n",
       "Df Model:                                                                 2                                         \n",
       "Covariance Type:                                                  nonrobust                                         \n",
       "===============================================================================\n",
       "                  coef    std err          t      P>|t|      [0.025      0.975]\n",
       "-------------------------------------------------------------------------------\n",
       "Intercept       0.0464   3.93e-05   1180.000      0.000       0.046       0.047\n",
       "p_init_norm     0.0288   5.92e-05    486.344      0.000       0.029       0.029\n",
       "tAI_norm        0.0006   5.92e-05     10.924      0.000       0.001       0.001\n",
       "==============================================================================\n",
       "Omnibus:                     1000.330   Durbin-Watson:                   1.953\n",
       "Prob(Omnibus):                  0.000   Jarque-Bera (JB):             9693.802\n",
       "Skew:                          -0.785   Prob(JB):                         0.00\n",
       "Kurtosis:                      10.037   Cond. No.                         2.63\n",
       "==============================================================================\n",
       "\n",
       "Warnings:\n",
       "[1] Standard Errors assume that the covariance matrix of the errors is correctly specified.\n",
       "\"\"\""
      ]
     },
     "execution_count": 197,
     "metadata": {},
     "output_type": "execute_result"
    }
   ],
   "source": [
    "results4.summary()"
   ]
  },
  {
   "cell_type": "code",
   "execution_count": 198,
   "metadata": {},
   "outputs": [
    {
     "name": "stdout",
     "output_type": "stream",
     "text": [
      "-40460.1865336\n",
      "0.991976646878\n"
     ]
    }
   ],
   "source": [
    "print results4.aic\n",
    "print results4.rsquared"
   ]
  },
  {
   "cell_type": "markdown",
   "metadata": {},
   "source": [
    "A little better than model 2! Should not be compared?"
   ]
  },
  {
   "cell_type": "markdown",
   "metadata": {},
   "source": [
    "### 3.2 Against \"measured\" data"
   ]
  },
  {
   "cell_type": "code",
   "execution_count": 199,
   "metadata": {},
   "outputs": [],
   "source": [
    "results11 = smf.ols('synth_rate_exp_per_transcript_molecules_per_s ~ p_init_norm + tAI_norm', \n",
    "                   data=data).fit()"
   ]
  },
  {
   "cell_type": "code",
   "execution_count": 200,
   "metadata": {},
   "outputs": [
    {
     "data": {
      "text/html": [
       "<table class=\"simpletable\">\n",
       "<caption>OLS Regression Results</caption>\n",
       "<tr>\n",
       "  <th>Dep. Variable:</th>    <td>synth_rate_exp_per_transcript_molecules_per_s</td> <th>  R-squared:         </th>  <td>   0.194</td> \n",
       "</tr>\n",
       "<tr>\n",
       "  <th>Model:</th>                                 <td>OLS</td>                      <th>  Adj. R-squared:    </th>  <td>   0.194</td> \n",
       "</tr>\n",
       "<tr>\n",
       "  <th>Method:</th>                           <td>Least Squares</td>                 <th>  F-statistic:       </th>  <td>   504.2</td> \n",
       "</tr>\n",
       "<tr>\n",
       "  <th>Date:</th>                           <td>Tue, 28 Nov 2017</td>                <th>  Prob (F-statistic):</th>  <td>6.45e-197</td>\n",
       "</tr>\n",
       "<tr>\n",
       "  <th>Time:</th>                               <td>17:51:01</td>                    <th>  Log-Likelihood:    </th>  <td>  8508.3</td> \n",
       "</tr>\n",
       "<tr>\n",
       "  <th>No. Observations:</th>                    <td>  4188</td>                     <th>  AIC:               </th> <td>-1.701e+04</td>\n",
       "</tr>\n",
       "<tr>\n",
       "  <th>Df Residuals:</th>                        <td>  4185</td>                     <th>  BIC:               </th> <td>-1.699e+04</td>\n",
       "</tr>\n",
       "<tr>\n",
       "  <th>Df Model:</th>                            <td>     2</td>                     <th>                     </th>      <td> </td>    \n",
       "</tr>\n",
       "<tr>\n",
       "  <th>Covariance Type:</th>                    <td>nonrobust</td>                   <th>                     </th>      <td> </td>    \n",
       "</tr>\n",
       "</table>\n",
       "<table class=\"simpletable\">\n",
       "<tr>\n",
       "       <td></td>          <th>coef</th>     <th>std err</th>      <th>t</th>      <th>P>|t|</th>  <th>[0.025</th>    <th>0.975]</th>  \n",
       "</tr>\n",
       "<tr>\n",
       "  <th>Intercept</th>   <td>    0.0312</td> <td>    0.000</td> <td>   63.514</td> <td> 0.000</td> <td>    0.030</td> <td>    0.032</td>\n",
       "</tr>\n",
       "<tr>\n",
       "  <th>p_init_norm</th> <td>    0.0160</td> <td>    0.001</td> <td>   21.571</td> <td> 0.000</td> <td>    0.015</td> <td>    0.017</td>\n",
       "</tr>\n",
       "<tr>\n",
       "  <th>tAI_norm</th>    <td>   -0.0235</td> <td>    0.001</td> <td>  -31.599</td> <td> 0.000</td> <td>   -0.025</td> <td>   -0.022</td>\n",
       "</tr>\n",
       "</table>\n",
       "<table class=\"simpletable\">\n",
       "<tr>\n",
       "  <th>Omnibus:</th>       <td>3151.150</td> <th>  Durbin-Watson:     </th> <td>   1.996</td> \n",
       "</tr>\n",
       "<tr>\n",
       "  <th>Prob(Omnibus):</th>  <td> 0.000</td>  <th>  Jarque-Bera (JB):  </th> <td>93778.866</td>\n",
       "</tr>\n",
       "<tr>\n",
       "  <th>Skew:</th>           <td> 3.296</td>  <th>  Prob(JB):          </th> <td>    0.00</td> \n",
       "</tr>\n",
       "<tr>\n",
       "  <th>Kurtosis:</th>       <td>25.225</td>  <th>  Cond. No.          </th> <td>    2.64</td> \n",
       "</tr>\n",
       "</table>"
      ],
      "text/plain": [
       "<class 'statsmodels.iolib.summary.Summary'>\n",
       "\"\"\"\n",
       "                                          OLS Regression Results                                         \n",
       "=========================================================================================================\n",
       "Dep. Variable:     synth_rate_exp_per_transcript_molecules_per_s   R-squared:                       0.194\n",
       "Model:                                                       OLS   Adj. R-squared:                  0.194\n",
       "Method:                                            Least Squares   F-statistic:                     504.2\n",
       "Date:                                           Tue, 28 Nov 2017   Prob (F-statistic):          6.45e-197\n",
       "Time:                                                   17:51:01   Log-Likelihood:                 8508.3\n",
       "No. Observations:                                           4188   AIC:                        -1.701e+04\n",
       "Df Residuals:                                               4185   BIC:                        -1.699e+04\n",
       "Df Model:                                                      2                                         \n",
       "Covariance Type:                                       nonrobust                                         \n",
       "===============================================================================\n",
       "                  coef    std err          t      P>|t|      [0.025      0.975]\n",
       "-------------------------------------------------------------------------------\n",
       "Intercept       0.0312      0.000     63.514      0.000       0.030       0.032\n",
       "p_init_norm     0.0160      0.001     21.571      0.000       0.015       0.017\n",
       "tAI_norm       -0.0235      0.001    -31.599      0.000      -0.025      -0.022\n",
       "==============================================================================\n",
       "Omnibus:                     3151.150   Durbin-Watson:                   1.996\n",
       "Prob(Omnibus):                  0.000   Jarque-Bera (JB):            93778.866\n",
       "Skew:                           3.296   Prob(JB):                         0.00\n",
       "Kurtosis:                      25.225   Cond. No.                         2.64\n",
       "==============================================================================\n",
       "\n",
       "Warnings:\n",
       "[1] Standard Errors assume that the covariance matrix of the errors is correctly specified.\n",
       "\"\"\""
      ]
     },
     "execution_count": 200,
     "metadata": {},
     "output_type": "execute_result"
    }
   ],
   "source": [
    "results11.summary()"
   ]
  },
  {
   "cell_type": "code",
   "execution_count": 201,
   "metadata": {},
   "outputs": [
    {
     "name": "stdout",
     "output_type": "stream",
     "text": [
      "-17010.660869\n",
      "0.19417404455\n"
     ]
    }
   ],
   "source": [
    "print results11.aic\n",
    "print results11.rsquared"
   ]
  },
  {
   "cell_type": "markdown",
   "metadata": {},
   "source": [
    "No good - does the tAI coefficient have the wrong sign? "
   ]
  },
  {
   "cell_type": "markdown",
   "metadata": {},
   "source": [
    "## 4. Models with 3 variables"
   ]
  },
  {
   "cell_type": "code",
   "execution_count": 202,
   "metadata": {},
   "outputs": [],
   "source": [
    "def normalize(df):\n",
    "    return (df - df.mean()) / df.std()"
   ]
  },
  {
   "cell_type": "markdown",
   "metadata": {},
   "source": [
    "### 4.1 Against synthetic data"
   ]
  },
  {
   "cell_type": "code",
   "execution_count": 203,
   "metadata": {},
   "outputs": [],
   "source": [
    "results5 = smf.ols('synth_rate_per_transcript_molecules_per_transcript_per_s ~ p_init_norm + tAI_norm + ORF_length_norm', \n",
    "                   data=data).fit()"
   ]
  },
  {
   "cell_type": "code",
   "execution_count": 204,
   "metadata": {},
   "outputs": [
    {
     "data": {
      "text/html": [
       "<table class=\"simpletable\">\n",
       "<caption>OLS Regression Results</caption>\n",
       "<tr>\n",
       "  <th>Dep. Variable:</th>    <td>synth_rate_per_transcript_molecules_per_transcript_per_s</td> <th>  R-squared:         </th>  <td>   0.992</td> \n",
       "</tr>\n",
       "<tr>\n",
       "  <th>Model:</th>                                       <td>OLS</td>                           <th>  Adj. R-squared:    </th>  <td>   0.992</td> \n",
       "</tr>\n",
       "<tr>\n",
       "  <th>Method:</th>                                 <td>Least Squares</td>                      <th>  F-statistic:       </th>  <td>1.888e+05</td>\n",
       "</tr>\n",
       "<tr>\n",
       "  <th>Date:</th>                                 <td>Tue, 28 Nov 2017</td>                     <th>  Prob (F-statistic):</th>   <td>  0.00</td>  \n",
       "</tr>\n",
       "<tr>\n",
       "  <th>Time:</th>                                     <td>17:51:01</td>                         <th>  Log-Likelihood:    </th>  <td>  20287.</td> \n",
       "</tr>\n",
       "<tr>\n",
       "  <th>No. Observations:</th>                          <td>  4475</td>                          <th>  AIC:               </th> <td>-4.057e+04</td>\n",
       "</tr>\n",
       "<tr>\n",
       "  <th>Df Residuals:</th>                              <td>  4471</td>                          <th>  BIC:               </th> <td>-4.054e+04</td>\n",
       "</tr>\n",
       "<tr>\n",
       "  <th>Df Model:</th>                                  <td>     3</td>                          <th>                     </th>      <td> </td>    \n",
       "</tr>\n",
       "<tr>\n",
       "  <th>Covariance Type:</th>                          <td>nonrobust</td>                        <th>                     </th>      <td> </td>    \n",
       "</tr>\n",
       "</table>\n",
       "<table class=\"simpletable\">\n",
       "<tr>\n",
       "         <td></td>            <th>coef</th>     <th>std err</th>      <th>t</th>      <th>P>|t|</th>  <th>[0.025</th>    <th>0.975]</th>  \n",
       "</tr>\n",
       "<tr>\n",
       "  <th>Intercept</th>       <td>    0.0464</td> <td> 3.89e-05</td> <td> 1194.213</td> <td> 0.000</td> <td>    0.046</td> <td>    0.047</td>\n",
       "</tr>\n",
       "<tr>\n",
       "  <th>p_init_norm</th>     <td>    0.0284</td> <td>  7.1e-05</td> <td>  399.155</td> <td> 0.000</td> <td>    0.028</td> <td>    0.028</td>\n",
       "</tr>\n",
       "<tr>\n",
       "  <th>tAI_norm</th>        <td>    0.0009</td> <td> 6.43e-05</td> <td>   14.404</td> <td> 0.000</td> <td>    0.001</td> <td>    0.001</td>\n",
       "</tr>\n",
       "<tr>\n",
       "  <th>ORF_length_norm</th> <td>   -0.0005</td> <td> 4.74e-05</td> <td>  -10.458</td> <td> 0.000</td> <td>   -0.001</td> <td>   -0.000</td>\n",
       "</tr>\n",
       "</table>\n",
       "<table class=\"simpletable\">\n",
       "<tr>\n",
       "  <th>Omnibus:</th>       <td>824.948</td> <th>  Durbin-Watson:     </th> <td>   1.951</td>\n",
       "</tr>\n",
       "<tr>\n",
       "  <th>Prob(Omnibus):</th> <td> 0.000</td>  <th>  Jarque-Bera (JB):  </th> <td>6607.999</td>\n",
       "</tr>\n",
       "<tr>\n",
       "  <th>Skew:</th>          <td>-0.654</td>  <th>  Prob(JB):          </th> <td>    0.00</td>\n",
       "</tr>\n",
       "<tr>\n",
       "  <th>Kurtosis:</th>      <td> 8.808</td>  <th>  Cond. No.          </th> <td>    3.36</td>\n",
       "</tr>\n",
       "</table>"
      ],
      "text/plain": [
       "<class 'statsmodels.iolib.summary.Summary'>\n",
       "\"\"\"\n",
       "                                               OLS Regression Results                                               \n",
       "====================================================================================================================\n",
       "Dep. Variable:     synth_rate_per_transcript_molecules_per_transcript_per_s   R-squared:                       0.992\n",
       "Model:                                                                  OLS   Adj. R-squared:                  0.992\n",
       "Method:                                                       Least Squares   F-statistic:                 1.888e+05\n",
       "Date:                                                      Tue, 28 Nov 2017   Prob (F-statistic):               0.00\n",
       "Time:                                                              17:51:01   Log-Likelihood:                 20287.\n",
       "No. Observations:                                                      4475   AIC:                        -4.057e+04\n",
       "Df Residuals:                                                          4471   BIC:                        -4.054e+04\n",
       "Df Model:                                                                 3                                         \n",
       "Covariance Type:                                                  nonrobust                                         \n",
       "===================================================================================\n",
       "                      coef    std err          t      P>|t|      [0.025      0.975]\n",
       "-----------------------------------------------------------------------------------\n",
       "Intercept           0.0464   3.89e-05   1194.213      0.000       0.046       0.047\n",
       "p_init_norm         0.0284    7.1e-05    399.155      0.000       0.028       0.028\n",
       "tAI_norm            0.0009   6.43e-05     14.404      0.000       0.001       0.001\n",
       "ORF_length_norm    -0.0005   4.74e-05    -10.458      0.000      -0.001      -0.000\n",
       "==============================================================================\n",
       "Omnibus:                      824.948   Durbin-Watson:                   1.951\n",
       "Prob(Omnibus):                  0.000   Jarque-Bera (JB):             6607.999\n",
       "Skew:                          -0.654   Prob(JB):                         0.00\n",
       "Kurtosis:                       8.808   Cond. No.                         3.36\n",
       "==============================================================================\n",
       "\n",
       "Warnings:\n",
       "[1] Standard Errors assume that the covariance matrix of the errors is correctly specified.\n",
       "\"\"\""
      ]
     },
     "execution_count": 204,
     "metadata": {},
     "output_type": "execute_result"
    }
   ],
   "source": [
    "results5.summary()"
   ]
  },
  {
   "cell_type": "code",
   "execution_count": 205,
   "metadata": {},
   "outputs": [
    {
     "name": "stdout",
     "output_type": "stream",
     "text": [
      "-40566.342719\n",
      "0.992168238525\n"
     ]
    }
   ],
   "source": [
    "print results5.aic\n",
    "print results5.rsquared"
   ]
  },
  {
   "cell_type": "markdown",
   "metadata": {},
   "source": [
    "Best so far."
   ]
  },
  {
   "cell_type": "markdown",
   "metadata": {},
   "source": [
    "With interaction:"
   ]
  },
  {
   "cell_type": "code",
   "execution_count": 206,
   "metadata": {},
   "outputs": [],
   "source": [
    "results6 = smf.ols('synth_rate_per_transcript_molecules_per_transcript_per_s ~ p_init_norm + tAI_norm * ORF_length_norm', \n",
    "                   data=data).fit()"
   ]
  },
  {
   "cell_type": "code",
   "execution_count": 207,
   "metadata": {},
   "outputs": [
    {
     "data": {
      "text/html": [
       "<table class=\"simpletable\">\n",
       "<caption>OLS Regression Results</caption>\n",
       "<tr>\n",
       "  <th>Dep. Variable:</th>    <td>synth_rate_per_transcript_molecules_per_transcript_per_s</td> <th>  R-squared:         </th>  <td>   0.992</td> \n",
       "</tr>\n",
       "<tr>\n",
       "  <th>Model:</th>                                       <td>OLS</td>                           <th>  Adj. R-squared:    </th>  <td>   0.992</td> \n",
       "</tr>\n",
       "<tr>\n",
       "  <th>Method:</th>                                 <td>Least Squares</td>                      <th>  F-statistic:       </th>  <td>1.473e+05</td>\n",
       "</tr>\n",
       "<tr>\n",
       "  <th>Date:</th>                                 <td>Tue, 28 Nov 2017</td>                     <th>  Prob (F-statistic):</th>   <td>  0.00</td>  \n",
       "</tr>\n",
       "<tr>\n",
       "  <th>Time:</th>                                     <td>17:51:01</td>                         <th>  Log-Likelihood:    </th>  <td>  20375.</td> \n",
       "</tr>\n",
       "<tr>\n",
       "  <th>No. Observations:</th>                          <td>  4475</td>                          <th>  AIC:               </th> <td>-4.074e+04</td>\n",
       "</tr>\n",
       "<tr>\n",
       "  <th>Df Residuals:</th>                              <td>  4470</td>                          <th>  BIC:               </th> <td>-4.071e+04</td>\n",
       "</tr>\n",
       "<tr>\n",
       "  <th>Df Model:</th>                                  <td>     4</td>                          <th>                     </th>      <td> </td>    \n",
       "</tr>\n",
       "<tr>\n",
       "  <th>Covariance Type:</th>                          <td>nonrobust</td>                        <th>                     </th>      <td> </td>    \n",
       "</tr>\n",
       "</table>\n",
       "<table class=\"simpletable\">\n",
       "<tr>\n",
       "              <td></td>                <th>coef</th>     <th>std err</th>      <th>t</th>      <th>P>|t|</th>  <th>[0.025</th>    <th>0.975]</th>  \n",
       "</tr>\n",
       "<tr>\n",
       "  <th>Intercept</th>                <td>    0.0465</td> <td> 3.83e-05</td> <td> 1213.584</td> <td> 0.000</td> <td>    0.046</td> <td>    0.047</td>\n",
       "</tr>\n",
       "<tr>\n",
       "  <th>p_init_norm</th>              <td>    0.0285</td> <td> 7.07e-05</td> <td>  403.202</td> <td> 0.000</td> <td>    0.028</td> <td>    0.029</td>\n",
       "</tr>\n",
       "<tr>\n",
       "  <th>tAI_norm</th>                 <td>    0.0011</td> <td> 6.42e-05</td> <td>   16.989</td> <td> 0.000</td> <td>    0.001</td> <td>    0.001</td>\n",
       "</tr>\n",
       "<tr>\n",
       "  <th>ORF_length_norm</th>          <td>   -0.0004</td> <td>  4.7e-05</td> <td>   -8.397</td> <td> 0.000</td> <td>   -0.000</td> <td>   -0.000</td>\n",
       "</tr>\n",
       "<tr>\n",
       "  <th>tAI_norm:ORF_length_norm</th> <td>    0.0007</td> <td> 5.06e-05</td> <td>   13.381</td> <td> 0.000</td> <td>    0.001</td> <td>    0.001</td>\n",
       "</tr>\n",
       "</table>\n",
       "<table class=\"simpletable\">\n",
       "<tr>\n",
       "  <th>Omnibus:</th>       <td>799.827</td> <th>  Durbin-Watson:     </th> <td>   1.957</td>\n",
       "</tr>\n",
       "<tr>\n",
       "  <th>Prob(Omnibus):</th> <td> 0.000</td>  <th>  Jarque-Bera (JB):  </th> <td>6228.607</td>\n",
       "</tr>\n",
       "<tr>\n",
       "  <th>Skew:</th>          <td>-0.635</td>  <th>  Prob(JB):          </th> <td>    0.00</td>\n",
       "</tr>\n",
       "<tr>\n",
       "  <th>Kurtosis:</th>      <td> 8.639</td>  <th>  Cond. No.          </th> <td>    3.53</td>\n",
       "</tr>\n",
       "</table>"
      ],
      "text/plain": [
       "<class 'statsmodels.iolib.summary.Summary'>\n",
       "\"\"\"\n",
       "                                               OLS Regression Results                                               \n",
       "====================================================================================================================\n",
       "Dep. Variable:     synth_rate_per_transcript_molecules_per_transcript_per_s   R-squared:                       0.992\n",
       "Model:                                                                  OLS   Adj. R-squared:                  0.992\n",
       "Method:                                                       Least Squares   F-statistic:                 1.473e+05\n",
       "Date:                                                      Tue, 28 Nov 2017   Prob (F-statistic):               0.00\n",
       "Time:                                                              17:51:01   Log-Likelihood:                 20375.\n",
       "No. Observations:                                                      4475   AIC:                        -4.074e+04\n",
       "Df Residuals:                                                          4470   BIC:                        -4.071e+04\n",
       "Df Model:                                                                 4                                         \n",
       "Covariance Type:                                                  nonrobust                                         \n",
       "============================================================================================\n",
       "                               coef    std err          t      P>|t|      [0.025      0.975]\n",
       "--------------------------------------------------------------------------------------------\n",
       "Intercept                    0.0465   3.83e-05   1213.584      0.000       0.046       0.047\n",
       "p_init_norm                  0.0285   7.07e-05    403.202      0.000       0.028       0.029\n",
       "tAI_norm                     0.0011   6.42e-05     16.989      0.000       0.001       0.001\n",
       "ORF_length_norm             -0.0004    4.7e-05     -8.397      0.000      -0.000      -0.000\n",
       "tAI_norm:ORF_length_norm     0.0007   5.06e-05     13.381      0.000       0.001       0.001\n",
       "==============================================================================\n",
       "Omnibus:                      799.827   Durbin-Watson:                   1.957\n",
       "Prob(Omnibus):                  0.000   Jarque-Bera (JB):             6228.607\n",
       "Skew:                          -0.635   Prob(JB):                         0.00\n",
       "Kurtosis:                       8.639   Cond. No.                         3.53\n",
       "==============================================================================\n",
       "\n",
       "Warnings:\n",
       "[1] Standard Errors assume that the covariance matrix of the errors is correctly specified.\n",
       "\"\"\""
      ]
     },
     "execution_count": 207,
     "metadata": {},
     "output_type": "execute_result"
    }
   ],
   "source": [
    "results6.summary()"
   ]
  },
  {
   "cell_type": "code",
   "execution_count": 208,
   "metadata": {},
   "outputs": [
    {
     "name": "stdout",
     "output_type": "stream",
     "text": [
      "-40740.0875493\n",
      "0.992469850754\n"
     ]
    }
   ],
   "source": [
    "print results6.aic\n",
    "print results6.rsquared"
   ]
  },
  {
   "cell_type": "markdown",
   "metadata": {},
   "source": [
    "Even better!"
   ]
  },
  {
   "cell_type": "markdown",
   "metadata": {},
   "source": [
    "### 4.2 Against \"measured\" data (synthesis rate per cell)"
   ]
  },
  {
   "cell_type": "code",
   "execution_count": 209,
   "metadata": {},
   "outputs": [],
   "source": [
    "results12 = smf.ols('synth_rate_exp_molecules_per_s ~ p_init_norm + tAI_norm + ORF_length_norm', \n",
    "                   data=data).fit()"
   ]
  },
  {
   "cell_type": "code",
   "execution_count": 210,
   "metadata": {},
   "outputs": [
    {
     "data": {
      "text/html": [
       "<table class=\"simpletable\">\n",
       "<caption>OLS Regression Results</caption>\n",
       "<tr>\n",
       "  <th>Dep. Variable:</th>    <td>synth_rate_exp_molecules_per_s</td> <th>  R-squared:         </th> <td>   0.324</td>\n",
       "</tr>\n",
       "<tr>\n",
       "  <th>Model:</th>                          <td>OLS</td>              <th>  Adj. R-squared:    </th> <td>   0.324</td>\n",
       "</tr>\n",
       "<tr>\n",
       "  <th>Method:</th>                    <td>Least Squares</td>         <th>  F-statistic:       </th> <td>   675.3</td>\n",
       "</tr>\n",
       "<tr>\n",
       "  <th>Date:</th>                    <td>Tue, 28 Nov 2017</td>        <th>  Prob (F-statistic):</th>  <td>  0.00</td> \n",
       "</tr>\n",
       "<tr>\n",
       "  <th>Time:</th>                        <td>17:51:01</td>            <th>  Log-Likelihood:    </th> <td> -4433.6</td>\n",
       "</tr>\n",
       "<tr>\n",
       "  <th>No. Observations:</th>             <td>  4228</td>             <th>  AIC:               </th> <td>   8875.</td>\n",
       "</tr>\n",
       "<tr>\n",
       "  <th>Df Residuals:</th>                 <td>  4224</td>             <th>  BIC:               </th> <td>   8901.</td>\n",
       "</tr>\n",
       "<tr>\n",
       "  <th>Df Model:</th>                     <td>     3</td>             <th>                     </th>     <td> </td>   \n",
       "</tr>\n",
       "<tr>\n",
       "  <th>Covariance Type:</th>             <td>nonrobust</td>           <th>                     </th>     <td> </td>   \n",
       "</tr>\n",
       "</table>\n",
       "<table class=\"simpletable\">\n",
       "<tr>\n",
       "         <td></td>            <th>coef</th>     <th>std err</th>      <th>t</th>      <th>P>|t|</th>  <th>[0.025</th>    <th>0.975]</th>  \n",
       "</tr>\n",
       "<tr>\n",
       "  <th>Intercept</th>       <td>    0.2626</td> <td>    0.011</td> <td>   24.713</td> <td> 0.000</td> <td>    0.242</td> <td>    0.283</td>\n",
       "</tr>\n",
       "<tr>\n",
       "  <th>p_init_norm</th>     <td>    0.1888</td> <td>    0.019</td> <td>    9.682</td> <td> 0.000</td> <td>    0.151</td> <td>    0.227</td>\n",
       "</tr>\n",
       "<tr>\n",
       "  <th>tAI_norm</th>        <td>    0.3108</td> <td>    0.018</td> <td>   17.521</td> <td> 0.000</td> <td>    0.276</td> <td>    0.346</td>\n",
       "</tr>\n",
       "<tr>\n",
       "  <th>ORF_length_norm</th> <td>   -0.0363</td> <td>    0.013</td> <td>   -2.814</td> <td> 0.005</td> <td>   -0.062</td> <td>   -0.011</td>\n",
       "</tr>\n",
       "</table>\n",
       "<table class=\"simpletable\">\n",
       "<tr>\n",
       "  <th>Omnibus:</th>       <td>8328.506</td> <th>  Durbin-Watson:     </th>   <td>   2.016</td>  \n",
       "</tr>\n",
       "<tr>\n",
       "  <th>Prob(Omnibus):</th>  <td> 0.000</td>  <th>  Jarque-Bera (JB):  </th> <td>24113258.222</td>\n",
       "</tr>\n",
       "<tr>\n",
       "  <th>Skew:</th>           <td>15.539</td>  <th>  Prob(JB):          </th>   <td>    0.00</td>  \n",
       "</tr>\n",
       "<tr>\n",
       "  <th>Kurtosis:</th>       <td>371.662</td> <th>  Cond. No.          </th>   <td>    3.38</td>  \n",
       "</tr>\n",
       "</table>"
      ],
      "text/plain": [
       "<class 'statsmodels.iolib.summary.Summary'>\n",
       "\"\"\"\n",
       "                                  OLS Regression Results                                  \n",
       "==========================================================================================\n",
       "Dep. Variable:     synth_rate_exp_molecules_per_s   R-squared:                       0.324\n",
       "Model:                                        OLS   Adj. R-squared:                  0.324\n",
       "Method:                             Least Squares   F-statistic:                     675.3\n",
       "Date:                            Tue, 28 Nov 2017   Prob (F-statistic):               0.00\n",
       "Time:                                    17:51:01   Log-Likelihood:                -4433.6\n",
       "No. Observations:                            4228   AIC:                             8875.\n",
       "Df Residuals:                                4224   BIC:                             8901.\n",
       "Df Model:                                       3                                         \n",
       "Covariance Type:                        nonrobust                                         \n",
       "===================================================================================\n",
       "                      coef    std err          t      P>|t|      [0.025      0.975]\n",
       "-----------------------------------------------------------------------------------\n",
       "Intercept           0.2626      0.011     24.713      0.000       0.242       0.283\n",
       "p_init_norm         0.1888      0.019      9.682      0.000       0.151       0.227\n",
       "tAI_norm            0.3108      0.018     17.521      0.000       0.276       0.346\n",
       "ORF_length_norm    -0.0363      0.013     -2.814      0.005      -0.062      -0.011\n",
       "==============================================================================\n",
       "Omnibus:                     8328.506   Durbin-Watson:                   2.016\n",
       "Prob(Omnibus):                  0.000   Jarque-Bera (JB):         24113258.222\n",
       "Skew:                          15.539   Prob(JB):                         0.00\n",
       "Kurtosis:                     371.662   Cond. No.                         3.38\n",
       "==============================================================================\n",
       "\n",
       "Warnings:\n",
       "[1] Standard Errors assume that the covariance matrix of the errors is correctly specified.\n",
       "\"\"\""
      ]
     },
     "execution_count": 210,
     "metadata": {},
     "output_type": "execute_result"
    }
   ],
   "source": [
    "results12.summary()"
   ]
  },
  {
   "cell_type": "code",
   "execution_count": 211,
   "metadata": {},
   "outputs": [
    {
     "name": "stdout",
     "output_type": "stream",
     "text": [
      "8875.12045977\n",
      "0.324161461944\n"
     ]
    }
   ],
   "source": [
    "print results12.aic\n",
    "print results12.rsquared"
   ]
  },
  {
   "cell_type": "markdown",
   "metadata": {},
   "source": [
    "Coefficient signs seem to be right. Also still all significant..."
   ]
  },
  {
   "cell_type": "markdown",
   "metadata": {},
   "source": [
    "With interaction:"
   ]
  },
  {
   "cell_type": "code",
   "execution_count": 212,
   "metadata": {},
   "outputs": [],
   "source": [
    "results13 = smf.ols('synth_rate_exp_molecules_per_s ~ p_init_norm + tAI_norm * ORF_length_norm', \n",
    "                   data=data).fit()"
   ]
  },
  {
   "cell_type": "code",
   "execution_count": 213,
   "metadata": {},
   "outputs": [
    {
     "data": {
      "text/html": [
       "<table class=\"simpletable\">\n",
       "<caption>OLS Regression Results</caption>\n",
       "<tr>\n",
       "  <th>Dep. Variable:</th>    <td>synth_rate_exp_molecules_per_s</td> <th>  R-squared:         </th> <td>   0.346</td>\n",
       "</tr>\n",
       "<tr>\n",
       "  <th>Model:</th>                          <td>OLS</td>              <th>  Adj. R-squared:    </th> <td>   0.346</td>\n",
       "</tr>\n",
       "<tr>\n",
       "  <th>Method:</th>                    <td>Least Squares</td>         <th>  F-statistic:       </th> <td>   559.5</td>\n",
       "</tr>\n",
       "<tr>\n",
       "  <th>Date:</th>                    <td>Tue, 28 Nov 2017</td>        <th>  Prob (F-statistic):</th>  <td>  0.00</td> \n",
       "</tr>\n",
       "<tr>\n",
       "  <th>Time:</th>                        <td>17:51:01</td>            <th>  Log-Likelihood:    </th> <td> -4362.9</td>\n",
       "</tr>\n",
       "<tr>\n",
       "  <th>No. Observations:</th>             <td>  4228</td>             <th>  AIC:               </th> <td>   8736.</td>\n",
       "</tr>\n",
       "<tr>\n",
       "  <th>Df Residuals:</th>                 <td>  4223</td>             <th>  BIC:               </th> <td>   8768.</td>\n",
       "</tr>\n",
       "<tr>\n",
       "  <th>Df Model:</th>                     <td>     4</td>             <th>                     </th>     <td> </td>   \n",
       "</tr>\n",
       "<tr>\n",
       "  <th>Covariance Type:</th>             <td>nonrobust</td>           <th>                     </th>     <td> </td>   \n",
       "</tr>\n",
       "</table>\n",
       "<table class=\"simpletable\">\n",
       "<tr>\n",
       "              <td></td>                <th>coef</th>     <th>std err</th>      <th>t</th>      <th>P>|t|</th>  <th>[0.025</th>    <th>0.975]</th>  \n",
       "</tr>\n",
       "<tr>\n",
       "  <th>Intercept</th>                <td>    0.2516</td> <td>    0.010</td> <td>   23.981</td> <td> 0.000</td> <td>    0.231</td> <td>    0.272</td>\n",
       "</tr>\n",
       "<tr>\n",
       "  <th>p_init_norm</th>              <td>    0.1471</td> <td>    0.019</td> <td>    7.545</td> <td> 0.000</td> <td>    0.109</td> <td>    0.185</td>\n",
       "</tr>\n",
       "<tr>\n",
       "  <th>tAI_norm</th>                 <td>    0.2730</td> <td>    0.018</td> <td>   15.399</td> <td> 0.000</td> <td>    0.238</td> <td>    0.308</td>\n",
       "</tr>\n",
       "<tr>\n",
       "  <th>ORF_length_norm</th>          <td>   -0.0605</td> <td>    0.013</td> <td>   -4.706</td> <td> 0.000</td> <td>   -0.086</td> <td>   -0.035</td>\n",
       "</tr>\n",
       "<tr>\n",
       "  <th>tAI_norm:ORF_length_norm</th> <td>   -0.1662</td> <td>    0.014</td> <td>  -11.982</td> <td> 0.000</td> <td>   -0.193</td> <td>   -0.139</td>\n",
       "</tr>\n",
       "</table>\n",
       "<table class=\"simpletable\">\n",
       "<tr>\n",
       "  <th>Omnibus:</th>       <td>8411.911</td> <th>  Durbin-Watson:     </th>   <td>   2.018</td>  \n",
       "</tr>\n",
       "<tr>\n",
       "  <th>Prob(Omnibus):</th>  <td> 0.000</td>  <th>  Jarque-Bera (JB):  </th> <td>26494570.083</td>\n",
       "</tr>\n",
       "<tr>\n",
       "  <th>Skew:</th>           <td>15.866</td>  <th>  Prob(JB):          </th>   <td>    0.00</td>  \n",
       "</tr>\n",
       "<tr>\n",
       "  <th>Kurtosis:</th>       <td>389.507</td> <th>  Cond. No.          </th>   <td>    3.55</td>  \n",
       "</tr>\n",
       "</table>"
      ],
      "text/plain": [
       "<class 'statsmodels.iolib.summary.Summary'>\n",
       "\"\"\"\n",
       "                                  OLS Regression Results                                  \n",
       "==========================================================================================\n",
       "Dep. Variable:     synth_rate_exp_molecules_per_s   R-squared:                       0.346\n",
       "Model:                                        OLS   Adj. R-squared:                  0.346\n",
       "Method:                             Least Squares   F-statistic:                     559.5\n",
       "Date:                            Tue, 28 Nov 2017   Prob (F-statistic):               0.00\n",
       "Time:                                    17:51:01   Log-Likelihood:                -4362.9\n",
       "No. Observations:                            4228   AIC:                             8736.\n",
       "Df Residuals:                                4223   BIC:                             8768.\n",
       "Df Model:                                       4                                         \n",
       "Covariance Type:                        nonrobust                                         \n",
       "============================================================================================\n",
       "                               coef    std err          t      P>|t|      [0.025      0.975]\n",
       "--------------------------------------------------------------------------------------------\n",
       "Intercept                    0.2516      0.010     23.981      0.000       0.231       0.272\n",
       "p_init_norm                  0.1471      0.019      7.545      0.000       0.109       0.185\n",
       "tAI_norm                     0.2730      0.018     15.399      0.000       0.238       0.308\n",
       "ORF_length_norm             -0.0605      0.013     -4.706      0.000      -0.086      -0.035\n",
       "tAI_norm:ORF_length_norm    -0.1662      0.014    -11.982      0.000      -0.193      -0.139\n",
       "==============================================================================\n",
       "Omnibus:                     8411.911   Durbin-Watson:                   2.018\n",
       "Prob(Omnibus):                  0.000   Jarque-Bera (JB):         26494570.083\n",
       "Skew:                          15.866   Prob(JB):                         0.00\n",
       "Kurtosis:                     389.507   Cond. No.                         3.55\n",
       "==============================================================================\n",
       "\n",
       "Warnings:\n",
       "[1] Standard Errors assume that the covariance matrix of the errors is correctly specified.\n",
       "\"\"\""
      ]
     },
     "execution_count": 213,
     "metadata": {},
     "output_type": "execute_result"
    }
   ],
   "source": [
    "results13.summary()"
   ]
  },
  {
   "cell_type": "code",
   "execution_count": 214,
   "metadata": {},
   "outputs": [
    {
     "name": "stdout",
     "output_type": "stream",
     "text": [
      "8735.7822587\n",
      "0.346380677392\n"
     ]
    }
   ],
   "source": [
    "print results13.aic\n",
    "print results13.rsquared"
   ]
  },
  {
   "cell_type": "markdown",
   "metadata": {},
   "source": [
    "### 4.3 Against \"measured\" data (synthesis rate per transcript)"
   ]
  },
  {
   "cell_type": "code",
   "execution_count": 215,
   "metadata": {},
   "outputs": [],
   "source": [
    "results14 = smf.ols('synth_rate_per_transcript_exp_molecules_per_transcript_per_s ~ p_init_norm + tAI_norm + ORF_length_norm', \n",
    "                   data=data).fit()"
   ]
  },
  {
   "cell_type": "code",
   "execution_count": 216,
   "metadata": {},
   "outputs": [
    {
     "data": {
      "text/html": [
       "<table class=\"simpletable\">\n",
       "<caption>OLS Regression Results</caption>\n",
       "<tr>\n",
       "  <th>Dep. Variable:</th>    <td>synth_rate_per_transcript_exp_molecules_per_transcript_per_s</td> <th>  R-squared:         </th>  <td>   0.495</td> \n",
       "</tr>\n",
       "<tr>\n",
       "  <th>Model:</th>                                         <td>OLS</td>                             <th>  Adj. R-squared:    </th>  <td>   0.495</td> \n",
       "</tr>\n",
       "<tr>\n",
       "  <th>Method:</th>                                   <td>Least Squares</td>                        <th>  F-statistic:       </th>  <td>   1367.</td> \n",
       "</tr>\n",
       "<tr>\n",
       "  <th>Date:</th>                                   <td>Tue, 28 Nov 2017</td>                       <th>  Prob (F-statistic):</th>   <td>  0.00</td>  \n",
       "</tr>\n",
       "<tr>\n",
       "  <th>Time:</th>                                       <td>17:51:01</td>                           <th>  Log-Likelihood:    </th>  <td>  6403.6</td> \n",
       "</tr>\n",
       "<tr>\n",
       "  <th>No. Observations:</th>                            <td>  4188</td>                            <th>  AIC:               </th> <td>-1.280e+04</td>\n",
       "</tr>\n",
       "<tr>\n",
       "  <th>Df Residuals:</th>                                <td>  4184</td>                            <th>  BIC:               </th> <td>-1.277e+04</td>\n",
       "</tr>\n",
       "<tr>\n",
       "  <th>Df Model:</th>                                    <td>     3</td>                            <th>                     </th>      <td> </td>    \n",
       "</tr>\n",
       "<tr>\n",
       "  <th>Covariance Type:</th>                            <td>nonrobust</td>                          <th>                     </th>      <td> </td>    \n",
       "</tr>\n",
       "</table>\n",
       "<table class=\"simpletable\">\n",
       "<tr>\n",
       "         <td></td>            <th>coef</th>     <th>std err</th>      <th>t</th>      <th>P>|t|</th>  <th>[0.025</th>    <th>0.975]</th>  \n",
       "</tr>\n",
       "<tr>\n",
       "  <th>Intercept</th>       <td>    0.1022</td> <td>    0.001</td> <td>  126.050</td> <td> 0.000</td> <td>    0.101</td> <td>    0.104</td>\n",
       "</tr>\n",
       "<tr>\n",
       "  <th>p_init_norm</th>     <td>    0.0440</td> <td>    0.001</td> <td>   29.604</td> <td> 0.000</td> <td>    0.041</td> <td>    0.047</td>\n",
       "</tr>\n",
       "<tr>\n",
       "  <th>tAI_norm</th>        <td>   -0.0074</td> <td>    0.001</td> <td>   -5.490</td> <td> 0.000</td> <td>   -0.010</td> <td>   -0.005</td>\n",
       "</tr>\n",
       "<tr>\n",
       "  <th>ORF_length_norm</th> <td>   -0.0208</td> <td>    0.001</td> <td>  -21.194</td> <td> 0.000</td> <td>   -0.023</td> <td>   -0.019</td>\n",
       "</tr>\n",
       "</table>\n",
       "<table class=\"simpletable\">\n",
       "<tr>\n",
       "  <th>Omnibus:</th>       <td>1637.737</td> <th>  Durbin-Watson:     </th> <td>   2.023</td> \n",
       "</tr>\n",
       "<tr>\n",
       "  <th>Prob(Omnibus):</th>  <td> 0.000</td>  <th>  Jarque-Bera (JB):  </th> <td>20844.960</td>\n",
       "</tr>\n",
       "<tr>\n",
       "  <th>Skew:</th>           <td> 1.502</td>  <th>  Prob(JB):          </th> <td>    0.00</td> \n",
       "</tr>\n",
       "<tr>\n",
       "  <th>Kurtosis:</th>       <td>13.508</td>  <th>  Cond. No.          </th> <td>    3.37</td> \n",
       "</tr>\n",
       "</table>"
      ],
      "text/plain": [
       "<class 'statsmodels.iolib.summary.Summary'>\n",
       "\"\"\"\n",
       "                                                 OLS Regression Results                                                 \n",
       "========================================================================================================================\n",
       "Dep. Variable:     synth_rate_per_transcript_exp_molecules_per_transcript_per_s   R-squared:                       0.495\n",
       "Model:                                                                      OLS   Adj. R-squared:                  0.495\n",
       "Method:                                                           Least Squares   F-statistic:                     1367.\n",
       "Date:                                                          Tue, 28 Nov 2017   Prob (F-statistic):               0.00\n",
       "Time:                                                                  17:51:01   Log-Likelihood:                 6403.6\n",
       "No. Observations:                                                          4188   AIC:                        -1.280e+04\n",
       "Df Residuals:                                                              4184   BIC:                        -1.277e+04\n",
       "Df Model:                                                                     3                                         \n",
       "Covariance Type:                                                      nonrobust                                         \n",
       "===================================================================================\n",
       "                      coef    std err          t      P>|t|      [0.025      0.975]\n",
       "-----------------------------------------------------------------------------------\n",
       "Intercept           0.1022      0.001    126.050      0.000       0.101       0.104\n",
       "p_init_norm         0.0440      0.001     29.604      0.000       0.041       0.047\n",
       "tAI_norm           -0.0074      0.001     -5.490      0.000      -0.010      -0.005\n",
       "ORF_length_norm    -0.0208      0.001    -21.194      0.000      -0.023      -0.019\n",
       "==============================================================================\n",
       "Omnibus:                     1637.737   Durbin-Watson:                   2.023\n",
       "Prob(Omnibus):                  0.000   Jarque-Bera (JB):            20844.960\n",
       "Skew:                           1.502   Prob(JB):                         0.00\n",
       "Kurtosis:                      13.508   Cond. No.                         3.37\n",
       "==============================================================================\n",
       "\n",
       "Warnings:\n",
       "[1] Standard Errors assume that the covariance matrix of the errors is correctly specified.\n",
       "\"\"\""
      ]
     },
     "execution_count": 216,
     "metadata": {},
     "output_type": "execute_result"
    }
   ],
   "source": [
    "results14.summary()"
   ]
  },
  {
   "cell_type": "code",
   "execution_count": 217,
   "metadata": {},
   "outputs": [
    {
     "name": "stdout",
     "output_type": "stream",
     "text": [
      "-12799.1965894\n",
      "0.495011915675\n"
     ]
    }
   ],
   "source": [
    "print results14.aic\n",
    "print results14.rsquared"
   ]
  },
  {
   "cell_type": "markdown",
   "metadata": {},
   "source": [
    "TAI coefficient sign seem to be wrong!"
   ]
  },
  {
   "cell_type": "markdown",
   "metadata": {},
   "source": [
    "With interaction:"
   ]
  },
  {
   "cell_type": "code",
   "execution_count": 218,
   "metadata": {},
   "outputs": [],
   "source": [
    "results15 = smf.ols('synth_rate_per_transcript_exp_molecules_per_transcript_per_s ~ p_init_norm + tAI_norm * ORF_length_norm', \n",
    "                   data=data).fit()"
   ]
  },
  {
   "cell_type": "code",
   "execution_count": 219,
   "metadata": {},
   "outputs": [
    {
     "data": {
      "text/html": [
       "<table class=\"simpletable\">\n",
       "<caption>OLS Regression Results</caption>\n",
       "<tr>\n",
       "  <th>Dep. Variable:</th>    <td>synth_rate_per_transcript_exp_molecules_per_transcript_per_s</td> <th>  R-squared:         </th>  <td>   0.500</td> \n",
       "</tr>\n",
       "<tr>\n",
       "  <th>Model:</th>                                         <td>OLS</td>                             <th>  Adj. R-squared:    </th>  <td>   0.499</td> \n",
       "</tr>\n",
       "<tr>\n",
       "  <th>Method:</th>                                   <td>Least Squares</td>                        <th>  F-statistic:       </th>  <td>   1044.</td> \n",
       "</tr>\n",
       "<tr>\n",
       "  <th>Date:</th>                                   <td>Tue, 28 Nov 2017</td>                       <th>  Prob (F-statistic):</th>   <td>  0.00</td>  \n",
       "</tr>\n",
       "<tr>\n",
       "  <th>Time:</th>                                       <td>17:51:01</td>                           <th>  Log-Likelihood:    </th>  <td>  6422.9</td> \n",
       "</tr>\n",
       "<tr>\n",
       "  <th>No. Observations:</th>                            <td>  4188</td>                            <th>  AIC:               </th> <td>-1.284e+04</td>\n",
       "</tr>\n",
       "<tr>\n",
       "  <th>Df Residuals:</th>                                <td>  4183</td>                            <th>  BIC:               </th> <td>-1.280e+04</td>\n",
       "</tr>\n",
       "<tr>\n",
       "  <th>Df Model:</th>                                    <td>     4</td>                            <th>                     </th>      <td> </td>    \n",
       "</tr>\n",
       "<tr>\n",
       "  <th>Covariance Type:</th>                            <td>nonrobust</td>                          <th>                     </th>      <td> </td>    \n",
       "</tr>\n",
       "</table>\n",
       "<table class=\"simpletable\">\n",
       "<tr>\n",
       "              <td></td>                <th>coef</th>     <th>std err</th>      <th>t</th>      <th>P>|t|</th>  <th>[0.025</th>    <th>0.975]</th>  \n",
       "</tr>\n",
       "<tr>\n",
       "  <th>Intercept</th>                <td>    0.1026</td> <td>    0.001</td> <td>  126.687</td> <td> 0.000</td> <td>    0.101</td> <td>    0.104</td>\n",
       "</tr>\n",
       "<tr>\n",
       "  <th>p_init_norm</th>              <td>    0.0457</td> <td>    0.002</td> <td>   30.371</td> <td> 0.000</td> <td>    0.043</td> <td>    0.049</td>\n",
       "</tr>\n",
       "<tr>\n",
       "  <th>tAI_norm</th>                 <td>   -0.0060</td> <td>    0.001</td> <td>   -4.364</td> <td> 0.000</td> <td>   -0.009</td> <td>   -0.003</td>\n",
       "</tr>\n",
       "<tr>\n",
       "  <th>ORF_length_norm</th>          <td>   -0.0199</td> <td>    0.001</td> <td>  -20.041</td> <td> 0.000</td> <td>   -0.022</td> <td>   -0.018</td>\n",
       "</tr>\n",
       "<tr>\n",
       "  <th>tAI_norm:ORF_length_norm</th> <td>    0.0067</td> <td>    0.001</td> <td>    6.216</td> <td> 0.000</td> <td>    0.005</td> <td>    0.009</td>\n",
       "</tr>\n",
       "</table>\n",
       "<table class=\"simpletable\">\n",
       "<tr>\n",
       "  <th>Omnibus:</th>       <td>1672.041</td> <th>  Durbin-Watson:     </th> <td>   2.026</td> \n",
       "</tr>\n",
       "<tr>\n",
       "  <th>Prob(Omnibus):</th>  <td> 0.000</td>  <th>  Jarque-Bera (JB):  </th> <td>21235.683</td>\n",
       "</tr>\n",
       "<tr>\n",
       "  <th>Skew:</th>           <td> 1.544</td>  <th>  Prob(JB):          </th> <td>    0.00</td> \n",
       "</tr>\n",
       "<tr>\n",
       "  <th>Kurtosis:</th>       <td>13.591</td>  <th>  Cond. No.          </th> <td>    3.54</td> \n",
       "</tr>\n",
       "</table>"
      ],
      "text/plain": [
       "<class 'statsmodels.iolib.summary.Summary'>\n",
       "\"\"\"\n",
       "                                                 OLS Regression Results                                                 \n",
       "========================================================================================================================\n",
       "Dep. Variable:     synth_rate_per_transcript_exp_molecules_per_transcript_per_s   R-squared:                       0.500\n",
       "Model:                                                                      OLS   Adj. R-squared:                  0.499\n",
       "Method:                                                           Least Squares   F-statistic:                     1044.\n",
       "Date:                                                          Tue, 28 Nov 2017   Prob (F-statistic):               0.00\n",
       "Time:                                                                  17:51:01   Log-Likelihood:                 6422.9\n",
       "No. Observations:                                                          4188   AIC:                        -1.284e+04\n",
       "Df Residuals:                                                              4183   BIC:                        -1.280e+04\n",
       "Df Model:                                                                     4                                         \n",
       "Covariance Type:                                                      nonrobust                                         \n",
       "============================================================================================\n",
       "                               coef    std err          t      P>|t|      [0.025      0.975]\n",
       "--------------------------------------------------------------------------------------------\n",
       "Intercept                    0.1026      0.001    126.687      0.000       0.101       0.104\n",
       "p_init_norm                  0.0457      0.002     30.371      0.000       0.043       0.049\n",
       "tAI_norm                    -0.0060      0.001     -4.364      0.000      -0.009      -0.003\n",
       "ORF_length_norm             -0.0199      0.001    -20.041      0.000      -0.022      -0.018\n",
       "tAI_norm:ORF_length_norm     0.0067      0.001      6.216      0.000       0.005       0.009\n",
       "==============================================================================\n",
       "Omnibus:                     1672.041   Durbin-Watson:                   2.026\n",
       "Prob(Omnibus):                  0.000   Jarque-Bera (JB):            21235.683\n",
       "Skew:                           1.544   Prob(JB):                         0.00\n",
       "Kurtosis:                      13.591   Cond. No.                         3.54\n",
       "==============================================================================\n",
       "\n",
       "Warnings:\n",
       "[1] Standard Errors assume that the covariance matrix of the errors is correctly specified.\n",
       "\"\"\""
      ]
     },
     "execution_count": 219,
     "metadata": {},
     "output_type": "execute_result"
    }
   ],
   "source": [
    "results15.summary()"
   ]
  },
  {
   "cell_type": "code",
   "execution_count": 220,
   "metadata": {},
   "outputs": [
    {
     "name": "stdout",
     "output_type": "stream",
     "text": [
      "-12835.7012742\n",
      "0.499633523577\n"
     ]
    }
   ],
   "source": [
    "print results15.aic\n",
    "print results15.rsquared"
   ]
  },
  {
   "cell_type": "markdown",
   "metadata": {},
   "source": [
    "TAI coefficient sign seem to be wrong!"
   ]
  },
  {
   "cell_type": "code",
   "execution_count": null,
   "metadata": {},
   "outputs": [],
   "source": []
  }
 ],
 "metadata": {
  "kernelspec": {
   "display_name": "Python 2",
   "language": "python",
   "name": "python2"
  },
  "language_info": {
   "codemirror_mode": {
    "name": "ipython",
    "version": 2
   },
   "file_extension": ".py",
   "mimetype": "text/x-python",
   "name": "python",
   "nbconvert_exporter": "python",
   "pygments_lexer": "ipython2",
   "version": "2.7.12"
  }
 },
 "nbformat": 4,
 "nbformat_minor": 2
}
