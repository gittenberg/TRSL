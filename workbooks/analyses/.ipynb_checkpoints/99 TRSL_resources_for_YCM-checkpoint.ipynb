{
 "cells": [
  {
   "cell_type": "markdown",
   "metadata": {},
   "source": [
    "## Determination of resource utilisation by translation processes for YCM"
   ]
  },
  {
   "cell_type": "code",
   "execution_count": 38,
   "metadata": {
    "collapsed": false
   },
   "outputs": [],
   "source": [
    "import pickle as pkl\n",
    "import os.path\n",
    "import matplotlib\n",
    "import matplotlib.pyplot as plt\n",
    "matplotlib.style.use('ggplot')\n",
    "%matplotlib inline\n",
    "import collections as col"
   ]
  },
  {
   "cell_type": "markdown",
   "metadata": {},
   "source": [
    "### 1. ATP/GTP consumption: from standard simulation, 3600 s"
   ]
  },
  {
   "cell_type": "code",
   "execution_count": 2,
   "metadata": {
    "collapsed": true
   },
   "outputs": [],
   "source": [
    "filename = '../../results/updated Shah transcriptome, full exome, no decay, updated initiation rates according to Shah_20160906_1752_3600s.p'"
   ]
  },
  {
   "cell_type": "code",
   "execution_count": 3,
   "metadata": {
    "collapsed": false
   },
   "outputs": [],
   "source": [
    "results = pkl.load(file(filename))"
   ]
  },
  {
   "cell_type": "code",
   "execution_count": 4,
   "metadata": {
    "collapsed": false
   },
   "outputs": [
    {
     "data": {
      "text/plain": [
       "['n_tRNA',\n",
       " 'description',\n",
       " 'n_ribosomes',\n",
       " 'timerange',\n",
       " 'proteome',\n",
       " 'transcriptome',\n",
       " 'duration',\n",
       " 'time_stamp',\n",
       " 'timecourses']"
      ]
     },
     "execution_count": 4,
     "metadata": {},
     "output_type": "execute_result"
    }
   ],
   "source": [
    "results.keys()"
   ]
  },
  {
   "cell_type": "code",
   "execution_count": 5,
   "metadata": {
    "collapsed": false
   },
   "outputs": [
    {
     "data": {
      "text/plain": [
       "2984788"
      ]
     },
     "execution_count": 5,
     "metadata": {},
     "output_type": "execute_result"
    }
   ],
   "source": [
    "results['n_tRNA']"
   ]
  },
  {
   "cell_type": "code",
   "execution_count": 6,
   "metadata": {
    "collapsed": false
   },
   "outputs": [
    {
     "data": {
      "text/plain": [
       "'updated Shah transcriptome, full exome, no decay, updated initiation rates according to Shah'"
      ]
     },
     "execution_count": 6,
     "metadata": {},
     "output_type": "execute_result"
    }
   ],
   "source": [
    "results['description']"
   ]
  },
  {
   "cell_type": "code",
   "execution_count": 7,
   "metadata": {
    "collapsed": false
   },
   "outputs": [
    {
     "data": {
      "text/plain": [
       "200000"
      ]
     },
     "execution_count": 7,
     "metadata": {},
     "output_type": "execute_result"
    }
   ],
   "source": [
    "results['n_ribosomes']"
   ]
  },
  {
   "cell_type": "code",
   "execution_count": 8,
   "metadata": {
    "collapsed": false
   },
   "outputs": [
    {
     "data": {
      "text/plain": [
       "array([  0.00000000e+00,   2.00000000e-01,   4.00000000e-01, ...,\n",
       "         3.59940000e+03,   3.59960000e+03,   3.59980000e+03])"
      ]
     },
     "execution_count": 8,
     "metadata": {},
     "output_type": "execute_result"
    }
   ],
   "source": [
    "results['timerange']"
   ]
  },
  {
   "cell_type": "code",
   "execution_count": 9,
   "metadata": {
    "collapsed": false
   },
   "outputs": [
    {
     "data": {
      "text/plain": [
       "4475"
      ]
     },
     "execution_count": 9,
     "metadata": {},
     "output_type": "execute_result"
    }
   ],
   "source": [
    "len(results['proteome'])"
   ]
  },
  {
   "cell_type": "code",
   "execution_count": 10,
   "metadata": {
    "collapsed": false
   },
   "outputs": [
    {
     "data": {
      "text/plain": [
       "57508"
      ]
     },
     "execution_count": 10,
     "metadata": {},
     "output_type": "execute_result"
    }
   ],
   "source": [
    "len(results['transcriptome'])"
   ]
  },
  {
   "cell_type": "code",
   "execution_count": 11,
   "metadata": {
    "collapsed": false
   },
   "outputs": [
    {
     "data": {
      "text/plain": [
       "3600.799999998917"
      ]
     },
     "execution_count": 11,
     "metadata": {},
     "output_type": "execute_result"
    }
   ],
   "source": [
    "results['duration']"
   ]
  },
  {
   "cell_type": "code",
   "execution_count": 12,
   "metadata": {
    "collapsed": false
   },
   "outputs": [
    {
     "data": {
      "text/plain": [
       "'20160906_1752'"
      ]
     },
     "execution_count": 12,
     "metadata": {},
     "output_type": "execute_result"
    }
   ],
   "source": [
    "results['time_stamp']"
   ]
  },
  {
   "cell_type": "code",
   "execution_count": 13,
   "metadata": {
    "collapsed": false
   },
   "outputs": [
    {
     "data": {
      "text/plain": [
       "18000"
      ]
     },
     "execution_count": 13,
     "metadata": {},
     "output_type": "execute_result"
    }
   ],
   "source": [
    "len(results['timecourses']['protein'])"
   ]
  },
  {
   "cell_type": "code",
   "execution_count": 14,
   "metadata": {
    "collapsed": false
   },
   "outputs": [
    {
     "data": {
      "text/plain": [
       "[<matplotlib.lines.Line2D at 0x7fa1260a1a10>]"
      ]
     },
     "execution_count": 14,
     "metadata": {},
     "output_type": "execute_result"
    },
    {
     "data": {
      "image/png": "[encoded data removed]",
      "text/plain": [
       "<matplotlib.figure.Figure at 0x7fa1af499950>"
      ]
     },
     "metadata": {},
     "output_type": "display_data"
    }
   ],
   "source": [
    "plt.plot(results['timerange'], results['timecourses']['protein'])"
   ]
  },
  {
   "cell_type": "markdown",
   "metadata": {},
   "source": [
    "Peptide bonds per second:"
   ]
  },
  {
   "cell_type": "code",
   "execution_count": 15,
   "metadata": {
    "collapsed": false
   },
   "outputs": [
    {
     "data": {
      "text/plain": [
       "1772346.6470364796"
      ]
     },
     "execution_count": 15,
     "metadata": {},
     "output_type": "execute_result"
    }
   ],
   "source": [
    "peptide_bonds_rate = results['timecourses']['protein'][-1]/results['timerange'][-1]\n",
    "peptide_bonds_rate"
   ]
  },
  {
   "cell_type": "code",
   "execution_count": 16,
   "metadata": {
    "collapsed": true
   },
   "outputs": [],
   "source": [
    "avogadro = 6.022e23"
   ]
  },
  {
   "cell_type": "markdown",
   "metadata": {},
   "source": [
    "ATP equivalents per second:"
   ]
  },
  {
   "cell_type": "code",
   "execution_count": 17,
   "metadata": {
    "collapsed": false
   },
   "outputs": [
    {
     "data": {
      "text/plain": [
       "7089386.5881459182"
      ]
     },
     "execution_count": 17,
     "metadata": {},
     "output_type": "execute_result"
    }
   ],
   "source": [
    "atp_rate = 4 * peptide_bonds_rate\n",
    "atp_rate"
   ]
  },
  {
   "cell_type": "markdown",
   "metadata": {},
   "source": [
    "in mM/s:"
   ]
  },
  {
   "cell_type": "code",
   "execution_count": 18,
   "metadata": {
    "collapsed": false
   },
   "outputs": [
    {
     "data": {
      "text/plain": [
       "1.1772478558860707e-14"
      ]
     },
     "execution_count": 18,
     "metadata": {},
     "output_type": "execute_result"
    }
   ],
   "source": [
    "atp_rate_mM_s = atp_rate * 1000 / avogadro\n",
    "atp_rate_mM_s"
   ]
  },
  {
   "cell_type": "markdown",
   "metadata": {},
   "source": [
    "Cell volume in litres according to http://journals.plos.org/ploscompbiol/article?id=10.1371/journal.pcbi.1000865"
   ]
  },
  {
   "cell_type": "code",
   "execution_count": 19,
   "metadata": {
    "collapsed": true
   },
   "outputs": [],
   "source": [
    "V = 4.2e-17 * 1000"
   ]
  },
  {
   "cell_type": "markdown",
   "metadata": {},
   "source": [
    "millimolar per second:"
   ]
  },
  {
   "cell_type": "code",
   "execution_count": 20,
   "metadata": {
    "collapsed": false
   },
   "outputs": [
    {
     "data": {
      "text/plain": [
       "0.28029710854430256"
      ]
     },
     "execution_count": 20,
     "metadata": {},
     "output_type": "execute_result"
    }
   ],
   "source": [
    "atp_rate_mM_s / V"
   ]
  },
  {
   "cell_type": "markdown",
   "metadata": {},
   "source": [
    "### 2. Amino acid consumption"
   ]
  },
  {
   "cell_type": "markdown",
   "metadata": {},
   "source": [
    "Exome from SGD ('yeastgenome.org')\n",
    "\n",
    "All yeast ORFs (http://downloads.yeastgenome.org/sequence/S288C_reference/orf_dna/):\n",
    "ORF Coding Sequences (CDS) only, without 5'-UTR, 3'-UTR, intron sequences, or bases not translated due to translational frameshifting, for all \"Verified\" and \"Uncharacterized\" ORFs, and transposable element genes.\n",
    "\n",
    "Does NOT include sequences for ORFs classified as \"Dubious\" or \"pseudogene\"."
   ]
  },
  {
   "cell_type": "code",
   "execution_count": 21,
   "metadata": {
    "collapsed": true
   },
   "outputs": [],
   "source": [
    "orf_genomic_dict = pkl.load(open(\"../../parameters/orf_coding.p\"))"
   ]
  },
  {
   "cell_type": "code",
   "execution_count": 22,
   "metadata": {
    "collapsed": false
   },
   "outputs": [
    {
     "data": {
      "text/plain": [
       "6713"
      ]
     },
     "execution_count": 22,
     "metadata": {},
     "output_type": "execute_result"
    }
   ],
   "source": [
    "len(orf_genomic_dict)"
   ]
  },
  {
   "cell_type": "markdown",
   "metadata": {},
   "source": [
    "Genetic code for yeast:"
   ]
  },
  {
   "cell_type": "code",
   "execution_count": 24,
   "metadata": {
    "collapsed": true
   },
   "outputs": [],
   "source": [
    "'''\n",
    "these codons are on the mRNA from 5' to 3'\n",
    "'''\n",
    "genetic_code = {\n",
    "    'uuu': 'F', 'ucu': 'S', 'uau': 'Y', 'ugu': 'C',\n",
    "    'uuc': 'F', 'ucc': 'S', 'uac': 'Y', 'ugc': 'C',\n",
    "    'uua': 'L', 'uca': 'S', 'uaa': '*', 'uga': '*',  # '*'==stop\n",
    "    'uug': 'L', 'ucg': 'S', 'uag': '*', 'ugg': 'W',\n",
    "    'cuu': 'L', 'ccu': 'P', 'cau': 'H', 'cgu': 'R',\n",
    "    'cuc': 'L', 'ccc': 'P', 'cac': 'H', 'cgc': 'R',\n",
    "    'cua': 'L', 'cca': 'P', 'caa': 'Q', 'cga': 'R',\n",
    "    'cug': 'L', 'ccg': 'P', 'cag': 'Q', 'cgg': 'R',\n",
    "    'auu': 'I', 'acu': 'T', 'aau': 'N', 'agu': 'S',\n",
    "    'auc': 'I', 'acc': 'T', 'aac': 'N', 'agc': 'S',\n",
    "    'aua': 'I', 'aca': 'T', 'aaa': 'K', 'aga': 'R',\n",
    "    'aug': 'M', 'acg': 'T', 'aag': 'K', 'agg': 'R',\n",
    "    'guu': 'V', 'gcu': 'A', 'gau': 'D', 'ggu': 'G',\n",
    "    'guc': 'V', 'gcc': 'A', 'gac': 'D', 'ggc': 'G',\n",
    "    'gua': 'V', 'gca': 'A', 'gaa': 'E', 'gga': 'G',\n",
    "    'gug': 'V', 'gcg': 'A', 'gag': 'E', 'ggg': 'G'\n",
    "}"
   ]
  },
  {
   "cell_type": "code",
   "execution_count": 26,
   "metadata": {
    "collapsed": false
   },
   "outputs": [
    {
     "data": {
      "text/plain": [
       "'augacuuuggcuuuuaauaugcaacgguugguguuucguaauuugaauguugggaagcgcauguucaagaacguccccuuauggagguuuaaugucgccaauaaauuaggaaagcccuuaacucgcucuguaggguuaggcggugcuggcauaguugcugguggcuuuuacuugaugaaucgccagccuucuaaguugauauucaaugauucuuuaggggcagcugucaaacaacagggucccuuggaaccaacugugggcaacaguacggcaauuaccgaggaaaggaggaacaaaauaaguagucacaagcagauguuuuugggaucauuauucgguguuguuuuaggaguuacgguggcuaagauaucaauuuuguuuauguaugucgguauuacaagcaugcuucuuugugaaugguuacgguacaagggauggauucgcauuaauuugaaaaauaucaaaucuguaauuguuuugaaagauguagacuugaagaaacugcuuauugauggguuauuggguacagaauacauggguuuuaaaguauucuuuacauugaguuucguauuagcaaguuuaaaugcuaacaaauga'"
      ]
     },
     "execution_count": 26,
     "metadata": {},
     "output_type": "execute_result"
    }
   ],
   "source": [
    "orf_genomic_dict['YAL008W']"
   ]
  },
  {
   "cell_type": "markdown",
   "metadata": {},
   "source": [
    "Test translation from Biopython:"
   ]
  },
  {
   "cell_type": "code",
   "execution_count": 35,
   "metadata": {
    "collapsed": false
   },
   "outputs": [
    {
     "data": {
      "text/plain": [
       "'MAIV'"
      ]
     },
     "execution_count": 35,
     "metadata": {},
     "output_type": "execute_result"
    }
   ],
   "source": [
    "from Bio.Seq import Seq\n",
    "from Bio.Alphabet import generic_dna\n",
    "\n",
    "coding_dna = Seq(\"AUGGCCAuuGTA\", generic_dna)\n",
    "str(coding_dna.translate())"
   ]
  },
  {
   "cell_type": "code",
   "execution_count": 41,
   "metadata": {
    "collapsed": true
   },
   "outputs": [],
   "source": [
    "def calculate_aa_frequency(dna_sequence):\n",
    "    aa_sequence = str(Seq(dna_sequence, generic_dna).translate())\n",
    "    return col.Counter(aa_sequence)"
   ]
  },
  {
   "cell_type": "code",
   "execution_count": 44,
   "metadata": {
    "collapsed": false
   },
   "outputs": [
    {
     "data": {
      "text/plain": [
       "Counter({'*': 2,\n",
       "         'A': 32,\n",
       "         'C': 2,\n",
       "         'D': 34,\n",
       "         'E': 50,\n",
       "         'F': 26,\n",
       "         'G': 56,\n",
       "         'H': 27,\n",
       "         'I': 60,\n",
       "         'K': 70,\n",
       "         'L': 85,\n",
       "         'M': 23,\n",
       "         'N': 64,\n",
       "         'P': 31,\n",
       "         'Q': 32,\n",
       "         'R': 57,\n",
       "         'S': 88,\n",
       "         'T': 68,\n",
       "         'V': 51,\n",
       "         'W': 13,\n",
       "         'Y': 23})"
      ]
     },
     "execution_count": 44,
     "metadata": {},
     "output_type": "execute_result"
    }
   ],
   "source": [
    "calculate_aa_frequency(orf_genomic_dict['YAL008W']) + calculate_aa_frequency(orf_genomic_dict['YBR255W'])"
   ]
  },
  {
   "cell_type": "markdown",
   "metadata": {},
   "source": [
    "This seems to work. We now calculate \n",
    "\n",
    "$$\\sum_{\\mathrm{genes}\\  i} n_i \\cdot a_{ij}$$\n",
    "\n",
    "for all amino acids $j$."
   ]
  },
  {
   "cell_type": "code",
   "execution_count": 50,
   "metadata": {
    "collapsed": false
   },
   "outputs": [],
   "source": [
    "molecule_counts = {key: results['timecourses'][key][-1] for key in results['timecourses']}"
   ]
  },
  {
   "cell_type": "code",
   "execution_count": 54,
   "metadata": {
    "collapsed": true
   },
   "outputs": [],
   "source": [
    "aas = {'CYS': 'C', 'ASP': 'D', 'SER': 'S', 'GLN': 'Q', 'LYS': 'K',\n",
    "     'ILE': 'I', 'PRO': 'P', 'THR': 'T', 'PHE': 'F', 'ASN': 'N', \n",
    "     'GLY': 'G', 'HIS': 'H', 'LEU': 'L', 'ARG': 'R', 'TRP': 'W', \n",
    "     'ALA': 'A', 'VAL':'V', 'GLU': 'E', 'TYR': 'Y', 'MET': 'M'}.values()"
   ]
  },
  {
   "cell_type": "code",
   "execution_count": 55,
   "metadata": {
    "collapsed": true
   },
   "outputs": [],
   "source": [
    "freqs = col.Counter()"
   ]
  },
  {
   "cell_type": "code",
   "execution_count": 61,
   "metadata": {
    "collapsed": false
   },
   "outputs": [
    {
     "name": "stdout",
     "output_type": "stream",
     "text": [
      "Counter({'A': 549830003, 'L': 525874415, 'K': 508966010, 'V': 462742213, 'E': 434606950, 'S': 432586192, 'G': 432522430, 'I': 381504466, 'T': 373201368, 'D': 352550583, 'N': 292950714, 'R': 286135169, 'P': 269961179, 'F': 248032164, 'Q': 218732058, 'Y': 196518661, 'H': 127586566, 'M': 123937666, 'W': 63022372, 'C': 59619177, '*': 4475})\n"
     ]
    }
   ],
   "source": [
    "for gene in orf_genomic_dict:\n",
    "    if gene in molecule_counts:\n",
    "        this_gene_freq = col.Counter({aa: calculate_aa_frequency(orf_genomic_dict[gene])[aa] * molecule_counts[gene] for aa in aas})\n",
    "        freqs += this_gene_freq"
   ]
  },
  {
   "cell_type": "code",
   "execution_count": 62,
   "metadata": {
    "collapsed": false
   },
   "outputs": [
    {
     "data": {
      "text/plain": [
       "Counter({'*': 4475,\n",
       "         'A': 549830003,\n",
       "         'C': 59619177,\n",
       "         'D': 352550583,\n",
       "         'E': 434606950,\n",
       "         'F': 248032164,\n",
       "         'G': 432522430,\n",
       "         'H': 127586566,\n",
       "         'I': 381504466,\n",
       "         'K': 508966010,\n",
       "         'L': 525874415,\n",
       "         'M': 123937666,\n",
       "         'N': 292950714,\n",
       "         'P': 269961179,\n",
       "         'Q': 218732058,\n",
       "         'R': 286135169,\n",
       "         'S': 432586192,\n",
       "         'T': 373201368,\n",
       "         'V': 462742213,\n",
       "         'W': 63022372,\n",
       "         'Y': 196518661})"
      ]
     },
     "execution_count": 62,
     "metadata": {},
     "output_type": "execute_result"
    }
   ],
   "source": [
    "freqs"
   ]
  },
  {
   "cell_type": "code",
   "execution_count": 63,
   "metadata": {
    "collapsed": false
   },
   "outputs": [
    {
     "data": {
      "text/plain": [
       "6340884831"
      ]
     },
     "execution_count": 63,
     "metadata": {},
     "output_type": "execute_result"
    }
   ],
   "source": [
    "sum(freqs.values())"
   ]
  },
  {
   "cell_type": "markdown",
   "metadata": {},
   "source": [
    "For comparison, the number of peptide bonds. (It should be comparable.)"
   ]
  },
  {
   "cell_type": "code",
   "execution_count": 66,
   "metadata": {
    "collapsed": false
   },
   "outputs": [
    {
     "data": {
      "text/plain": [
       "6380093460"
      ]
     },
     "execution_count": 66,
     "metadata": {},
     "output_type": "execute_result"
    }
   ],
   "source": [
    "results['timecourses']['protein'][-1]"
   ]
  },
  {
   "cell_type": "markdown",
   "metadata": {},
   "source": [
    "Consumption per second:"
   ]
  },
  {
   "cell_type": "code",
   "execution_count": 69,
   "metadata": {
    "collapsed": false
   },
   "outputs": [
    {
     "data": {
      "text/plain": [
       "{'A': 152739.04189126214,\n",
       " 'C': 16561.802600149436,\n",
       " 'D': 97936.158397718231,\n",
       " 'E': 120730.86004781675,\n",
       " 'F': 68901.651202865338,\n",
       " 'G': 120151.79454417749,\n",
       " 'H': 35442.681815667085,\n",
       " 'I': 105979.35051950518,\n",
       " 'K': 141387.30207237988,\n",
       " 'L': 146084.34218572095,\n",
       " 'M': 34429.042169019747,\n",
       " 'N': 81379.719428881639,\n",
       " 'P': 74993.382687949663,\n",
       " 'Q': 60762.280682278404,\n",
       " 'R': 79486.407300429491,\n",
       " 'S': 120169.50719488031,\n",
       " 'T': 103672.80626704602,\n",
       " 'V': 128546.64509143264,\n",
       " 'W': 17507.187065953374,\n",
       " 'Y': 54591.549808339107}"
      ]
     },
     "execution_count": 69,
     "metadata": {},
     "output_type": "execute_result"
    }
   ],
   "source": [
    "aa_rates = {key: freqs[key]/results['timerange'][-1] for key in aas}\n",
    "aa_rates"
   ]
  },
  {
   "cell_type": "markdown",
   "metadata": {},
   "source": [
    "in mM/s:"
   ]
  },
  {
   "cell_type": "code",
   "execution_count": 73,
   "metadata": {
    "collapsed": false
   },
   "outputs": [
    {
     "data": {
      "text/plain": [
       "{'A': 0.0060389303463199281,\n",
       " 'C': 0.00065481340640466846,\n",
       " 'D': 0.003872157580843188,\n",
       " 'E': 0.0047734046609976422,\n",
       " 'F': 0.0027242037609268134,\n",
       " 'G': 0.004750509818924953,\n",
       " 'H': 0.0014013174635727366,\n",
       " 'I': 0.0041901658411026711,\n",
       " 'K': 0.0055901101545278381,\n",
       " 'L': 0.0057758197002151217,\n",
       " 'M': 0.0013612406165100877,\n",
       " 'N': 0.0032175562393794836,\n",
       " 'P': 0.0029650560123969912,\n",
       " 'Q': 0.0024023928406271609,\n",
       " 'R': 0.0031426992812239843,\n",
       " 'S': 0.0047512101340671624,\n",
       " 'T': 0.0040989706894974786,\n",
       " 'V': 0.0050824217983043386,\n",
       " 'W': 0.00069219160957257415,\n",
       " 'Y': 0.0021584171454009544}"
      ]
     },
     "execution_count": 73,
     "metadata": {},
     "output_type": "execute_result"
    }
   ],
   "source": [
    "aa_rates_mM_s = {key: aa_rates[key] * 1000 / avogadro / V for key in aas}\n",
    "aa_rates_mM_s"
   ]
  },
  {
   "cell_type": "markdown",
   "metadata": {},
   "source": [
    "### 3. ATP/GTP consumption (cell cycle)"
   ]
  },
  {
   "cell_type": "code",
   "execution_count": null,
   "metadata": {
    "collapsed": true
   },
   "outputs": [],
   "source": []
  }
 ],
 "metadata": {
  "kernelspec": {
   "display_name": "Python 2",
   "language": "python",
   "name": "python2"
  },
  "language_info": {
   "codemirror_mode": {
    "name": "ipython",
    "version": 2
   },
   "file_extension": ".py",
   "mimetype": "text/x-python",
   "name": "python",
   "nbconvert_exporter": "python",
   "pygments_lexer": "ipython2",
   "version": "2.7.12"
  }
 },
 "nbformat": 4,
 "nbformat_minor": 2
}
